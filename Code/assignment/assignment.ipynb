{
 "cells": [
  {
   "cell_type": "markdown",
   "metadata": {
    "id": "y3Jp_VhCl4te",
    "tags": []
   },
   "source": [
    "# MΥΕ046 – Υπολογιστική Όραση: Χειμερινό εξάμηνο 2024-2025\n",
    "## Εργασία: 30% του συνολικού βαθμού\n",
    "## Διδάσκων: Άγγελος Γιώτης\n",
    "- ΠΑΡΑΔΟΣΗ: **Τρίτη, 14 Ιανουαρίου, 2025 23:59**"
   ]
  },
  {
   "cell_type": "markdown",
   "metadata": {
    "id": "FOXXS2dOl4tj",
    "tags": []
   },
   "source": [
    "# Γενικές Οδηγίες\n",
    "\n",
    "Απαντήστε στα παρακάτω ζητήματα χρησιμοποιώντας Python στο συνημμένο σημειωματάριο Jupyter και ακολουθήστε τις παρακάτω οδηγίες:\n",
    " \n",
    "- Οι ασκήσεις είναι **ατομικές** - δεν επιτρέπεται η μεταξύ σας συνεργασία για την υλοποίηση/παράδοσή τους.\n",
    "\n",
    "- **Δεν** επιτρέπεται να χρησιμοποιήσετε κώδικα που τυχόν θα βρείτε στο διαδίκτυο (είτε αυτούσιο, είτε **παραγόμενο από ΑΙ**). Η χρήση κώδικα τρίτων θα έχει σαν αποτέλεσμα τον αυτόματο μηδενισμό σας.\n",
    "\n",
    "- Όλες οι λύσεις πρέπει να είναι γραμμένες σε αυτό το σημειωματάριο `Jupyter notebook`.\n",
    "\n",
    "- **Εάν** ένα ζήτημα περιλαμβάνει θεωρητική ερώτηση, η απάντηση θα **πρέπει** να συμπεριληφθεί στο τέλος του ζητήματος, σε ξεχωριστό \"Markdown\" κελί.\n",
    "\n",
    "- Ο κώδικάς σας πρέπει να σχολιαστεί εκτενώς! Καλά σχολιασμένος κώδικας θα συνεκτιμηθεί στην αξιολόγησή σας.\n",
    "\n",
    "- Αφού ολοκληρώσετε (υλοποιήσετε και εκτελέσετε) τις απαντήσεις σας στο σημειωματάριο (notebook), εξαγάγετε το notebook ως **PDF** και υποβάλετε, τόσο το σημειωματάριο όσο και το PDF (δηλαδή τα αρχεία `.ipynb` και `.pdf`) στο `turnin` του μαθήματος, μαζί με ένα συνοδευτικό αρχείο `onoma.txt` που θα περιέχει το ον/μο σας και τον Α.Μ. σας. Μια καλή πρακτική για την αποφυγή προβλημάτων απεικόνισης, π.χ., περικοπής εικόνων/κώδικα στα όρια της σελίδας, είναι η μετατροπή του `.ipynb` σε HTML και μετά η αποθήκευση του HTML αρχείου ως PDF.\n",
    "\n",
    "- Οι απαντήσεις θα παραδοθούν με την εντολή: **turnin assignment@mye046 onoma.txt assignment.ipynb assignment.pdf**\n",
    "\n",
    "- Μπορείτε να χρησιμοποιήσετε βασικά πακέτα γραμμικής άλγεβρας (π.χ. `NumPy`, `SciPy`), αλλά δεν επιτρέπεται να χρησιμοποιείτε τα πακέτα/βιβλιοθήκες που επιλύουν άμεσα τα προβλήματα, εκτός και αν αναφέρεται διαφορετικά η χρήση συγκεκριμένου πακέτου σε κάποιο ζήτημα. Αν δεν είστε βέβαιοι για κάποιο συγκεκριμένο πακέτο/βιβλιοθήκη ή συνάρτηση που θα χρησιμοποιήσετε, μη διστάσετε να ρωτήσετε τον διδάσκοντα.\n",
    "\n",
    "- Συνιστάται ιδιαίτερα να αρχίσετε να εργάζεστε στις ασκήσεις σας το συντομότερο δυνατό!\n",
    "\n",
    "**Late Policy:** Εργασίες που υποβάλλονται καθυστερημένα θα λαμβάνουν μείωση βαθμού 10% για κάθε 24 ώρες καθυστέρησης. Οι εργασίες δεν θα γίνονται δεκτές 96 ώρες (4 ημέρες) μετά την προθεσμία παράδοσης. Για παράδειγμα, παράδοση της εργασίας 2 ημέρες μετά την προθεσμία βαθμολογείται με άριστα το 24 (από 30)."
   ]
  },
  {
   "cell_type": "markdown",
   "metadata": {
    "id": "l5pbyh5yl4tk",
    "tags": [],
    "toc-hr-collapsed": true
   },
   "source": [
    "# Intro to Google Colab, Jupyter Notebook - JupyterLab, Python\n",
    "\n",
    "**Εισαγωγή**\n",
    "\n",
    "- Η Εργασία του μαθήματος ΜΥΕ046-Υπολογιστική Όραση περιλαμβάνει 2 Ασκήσεις στο αρχείο `assignment.ipynb`, το οποίο απαιτεί περιβάλλον Jupyter Notebook ή JupyterLab για προβολή και επεξεργασία, **είτε τοπικά** (local machine) στον υπολογιστή σας, **είτε μέσω της υπηρεσίας** νέφους [Google Colab](https://colab.research.google.com/) ή [Colaboratory](https://colab.research.google.com/).\n",
    "\n",
    "\n",
    "**Working remotely on Google Colaboratory**\n",
    "\n",
    "Το [Google Colaboratory](https://colab.research.google.com/) είναι ένας συνδυασμός σημειωματαρίου Jupyter και [Google Drive](https://www.google.com/drive/). Εκτελείται εξ' ολοκλήρου στο cloud και έρχεται προεγκατεστημένο με πολλά πακέτα (π.χ. PyTorch και Tensorflow), ώστε όλοι να έχουν πρόσβαση στις ίδιες εξαρτήσεις/βιβλιοθήκες. Ακόμη πιο ενδιαφέρον είναι το γεγονός ότι το Colab επωφελείται από την ελεύθερη πρόσβαση σε επιταχυντές υλικού (π.χ. κάρτες γραφικών) όπως οι GPU (K80, P100) και οι TPU.\n",
    "\n",
    "- Requirements:\n",
    "\n",
    "Για να χρησιμοποιήσετε το Colab, πρέπει να έχετε λογαριασμό Google με συσχετισμένο Google Drive. Υποθέτοντας ότι έχετε και τα δύο (ο ακαδημαϊκός σας λογαριασμός είναι λογαριασμός google), μπορείτε να συνδέσετε το Colab στο Drive σας με τα ακόλουθα βήματα:\n",
    "\n",
    "1. Κάντε κλικ στον τροχό στην επάνω δεξιά γωνία (στο Google Drive) και επιλέξτε `Ρυθμίσεις`.\n",
    "2. Κάντε κλικ στην καρτέλα `Διαχείριση εφαρμογών`.\n",
    "3. Στο επάνω μέρος, επιλέξτε `Σύνδεση περισσότερων εφαρμογών` που θα εμφανίσουν ένα παράθυρο του `GSuite Marketplace`.\n",
    "4. Αναζητήστε το `Colab` και, στη συνέχεια, κάντε κλικ στην `Προσθήκη` (install).\n",
    "\n",
    "- Workflow:\n",
    "\n",
    "Η εργασία στη σελίδα ecourse του μαθήματος παρέχει έναν σύνδεσμο λήψης σε ένα αρχείο `assignment.zip` που περιέχει:\n",
    "1. `images/`, φάκελος με ενδεικτικές εικόνες των παρακάτω ζητημάτων.\n",
    "2. `assignment.ipynb`, το σημειωματάριo jupyter στο οποίο θα εργαστείτε και θα παραδώσετε. \n",
    "3. `tutorial1_pytorch_introduction.ipynb`, που περιλαμβάνει στοιχειώδη παραδείγματα με χρήση της βιλβιοθήκης βαθιάς μάθησης `PyTorch` (αφορά στη 2η εργασία).\n",
    "4. `Σημειώσεις PCA-SVD.pdf`, σημειώσεις που σχετίζονται με το ζήτημα **1.6** της **1ης** άσκησης.\n",
    "5. `Σημειώσεις CNN.pdf`, σημειώσεις που σχετίζονται με το ζήτημα **2.5** της **2ης** άσκησης.\n",
    "\n",
    "- Βέλτιστες πρακτικές:\n",
    "\n",
    "Υπάρχουν μερικά πράγματα που πρέπει να γνωρίζετε όταν εργάζεστε με την υπηρεσία Colab. Το πρώτο πράγμα που πρέπει να σημειωθεί είναι ότι οι πόροι δεν είναι εγγυημένοι (αυτό είναι το τίμημα της δωρεάν χρήσης). Εάν είστε σε αδράνεια για ένα συγκεκριμένο χρονικό διάστημα ή ο συνολικός χρόνος σύνδεσής σας υπερβαίνει τον μέγιστο επιτρεπόμενο χρόνο (~12 ώρες), το Colab VM θα αποσυνδεθεί. Αυτό σημαίνει ότι οποιαδήποτε μη αποθηκευμένη πρόοδος θα χαθεί. Έτσι, φροντίστε να αποθηκεύετε συχνά την υλοποίησή σας ενώ εργάζεστε.\n",
    "\n",
    "- Χρήση GPU:\n",
    "\n",
    "Η χρήση μιας GPU απαιτεί πολύ απλά την αλλαγή του τύπου εκτέλεσης (runtime) στο Colab. Συγκεκριμένα, κάντε κλικ `Runtime -> Change runtime type -> Hardware Accelerator -> GPU` και το στιγμιότυπο εκτέλεσής σας Colab θα υποστηρίζεται αυτόματα από επιταχυντή υπολογισμών GPU (αλλαγή τύπου χρόνου εκτέλεσης σε GPU ή TPU). Στην παρούσα εργασία, **δεν** θα χρειαστεί η χρήση GPU.\n",
    "\n",
    "\n",
    "**Working locally on your machine**\n",
    "\n",
    "**Linux**\n",
    "\n",
    "Εάν θέλετε να εργαστείτε τοπικά στον Η/Υ σας, θα πρέπει να χρησιμοποιήσετε ένα εικονικό περιβάλλον. Μπορείτε να εγκαταστήσετε ένα μέσω του [Anaconda](https://www.anaconda.com/products/distribution) (συνιστάται) ή μέσω της native μονάδας `venv` της Python. Βεβαιωθείτε ότι χρησιμοποιείτε (τουλάχιστον) έκδοση Python 3.7.\n",
    "\n",
    "- Εικονικό περιβάλλον Anaconda: \n",
    "Συνιστάται η χρήση της δωρεάν διανομής [Anaconda](https://www.anaconda.com/products/distribution), η οποία παρέχει έναν εύκολο τρόπο για να χειριστείτε τις εξαρτήσεις πακέτων. Μόλις εγκαταστήσετε το Anaconda, είναι εύχρηστο να δημιουργήσετε ένα εικονικό περιβάλλον για το μάθημα. Για να ρυθμίσετε ένα εικονικό περιβάλλον που ονομάζεται π.χ. `mye046`, εκτελέστε τα εξής στο τερματικό σας:\n",
    "`conda create -n mye046 python=3.7` (Αυτή η εντολή θα δημιουργήσει το περιβάλλον mye046 στη διαδρομή 'path/to/anaconda3/envs/')\n",
    "Για να ενεργοποιήσετε και να εισέλθετε στο περιβάλλον, εκτελέστε το `conda activate mye046`. Για να απενεργοποιήσετε το περιβάλλον, είτε εκτελέστε `conda deactivate mye046` είτε βγείτε από το τερματικό. Σημειώστε ότι κάθε φορά που θέλετε να εργαστείτε στην εργασία, θα πρέπει να εκτελείτε ξανά το `conda activate mye046`.\n",
    "\n",
    "- Εικονικό περιβάλλον Python venv:\n",
    "Για να ρυθμίσετε ένα εικονικό περιβάλλον που ονομάζεται mye046, εκτελέστε τα εξής στο τερματικό σας:\n",
    "`python3.7 -m venv ~/mye046`\n",
    "Για να ενεργοποιήσετε και να εισέλθετε στο περιβάλλον, εκτελέστε το `source ~/mye046/bin/activate`. Για να απενεργοποιήσετε το περιβάλλον, εκτελέστε: `deactivate` ή έξοδο από το τερματικό. Σημειώστε ότι κάθε φορά που θέλετε να εργαστείτε για την άσκηση, θα πρέπει να εκτελείτε ξανά το `source ~/mye046/bin/activate`.\n",
    "\n",
    "- Εκτέλεση Jupyter Notebook:\n",
    "Εάν θέλετε να εκτελέσετε το notebook τοπικά με το Jupyter, βεβαιωθείτε ότι το εικονικό σας περιβάλλον έχει εγκατασταθεί σωστά (σύμφωνα με τις οδηγίες εγκατάστασης που περιγράφονται παραπάνω για περιβάλλον linux), ενεργοποιήστε το και, στη συνέχεια, εκτελέστε `pip install notebook` για να εγκαταστήσετε το σημειωματάριο `Jupyter`. Στη συνέχεια, αφού κατεβάσετε και αποσυμπιέσετε το φάκελο της Άσκησης από τη σελίδα ecourse σε κάποιο κατάλογο της επιλογής σας, εκτελέστε `cd` σε αυτόν το φάκελο και στη συνέχεια εκτελέστε το σημειωματάριο `jupyter notebook`.\n",
    "Αυτό θα πρέπει να εκκινήσει αυτόματα έναν διακομιστή notebook στη διεύθυνση `http://localhost:8888`. Εάν όλα έγιναν σωστά, θα πρέπει να δείτε μια οθόνη που θα εμφανίζει όλα τα διαθέσιμα σημειωματάρια στον τρέχοντα κατάλογο, στην προκειμένη περίπτωση μόνο το `assignment.ipynb` (η εργασία σας). Κάντε κλικ στο `assignment.ipynb` και ακολουθήστε τις οδηγίες στο σημειωματάριο.\n",
    "\n",
    "\n",
    "**Windows**\n",
    "\n",
    "Τα πράγματα είναι πολύ πιο απλά στην περίπτωση που θέλετε να εργαστείτε τοπικά σε περιβάλλον `Windows`. Μπορείτε να εγκαταστήσετε την [Anaconda](https://www.anaconda.com/products/distribution) για Windows και στη συνέχεια να εκτελέσετε το [Anaconda Navigator](https://docs.anaconda.com/navigator/index.html) αναζητώντας το απευθείας στο πεδίο αναζήτησης δίπλα από το κουμπί `έναρξης` των Windows. Το εργαλείο αυτό παρέχει επίσης άμεσα προεγκατεστημένα, τα πακέτα λογισμικού Jupyter Notebook και JupyterLab τα οποία επιτρέπουν την προβολή και υλοποίηση του σημειοματαρίου Jupyter άμεσα και εύκολα (εκτελώντας το απευθείας από τη διαδρομή αρχείου που βρίσκεται). Ενδεχομένως, κατά την αποθήκευση/εξαγωγή του notebook `assignment.ipynb` σε `assignment.pdf`, να χρειαστεί η εγκατάσταση του πακέτου [Pandoc universal document converter](https://pandoc.org/installing.html) (εκτέλεση: `conda install -c conda-forge pandoc` μέσα από το command prompt του \"activated\" anaconda navigator). Εναλλακτικά, μπορεί να εκτυπωθεί ως PDF αρχείο (**βλ. Ενότητα**: Οδηγίες υποβολής).\n",
    "\n",
    "**Python**\n",
    "\n",
    "Θα χρησιμοποιήσουμε τη γλώσσα προγραμματισμού Python και στις 2 ασκήσεις, με μερικές δημοφιλείς βιβλιοθήκες (`NumPy`, `Matplotlib`) ενώ στη 2η άσκηση θα χρειαστεί και η βιβλιοθήκη βαθιάς μάθησης PyTorch. Αναμένεται ότι πολλοί από εσάς έχετε κάποια εμπειρία σε `Python` και `NumPy`. Και αν έχετε πρότερη εμπειρία σε `MATLAB`, μπορείτε να δείτε επίσης το σύνδεσμο [NumPy for MATLAB users](https://numpy.org/doc/stable/user/numpy-for-matlab-users.html)."
   ]
  },
  {
   "cell_type": "markdown",
   "metadata": {
    "id": "l5pbyh5yl4tk",
    "tags": [],
    "toc-hr-collapsed": true
   },
   "source": [
    "## Άσκηση 1: Μηχανική Μάθηση [15 μονάδες]"
   ]
  },
  {
   "cell_type": "markdown",
   "metadata": {
    "id": "m16Ecnjdl4tk"
   },
   "source": [
    "Στην άσκηση αυτή θα υλοποιήσετε μια σειρά από παραδοσιακές τεχνικές μηχανικής μάθησης με εφαρμογή στην επίλυση προβλημάτων υπολογιστικής όρασης."
   ]
  },
  {
   "cell_type": "markdown",
   "metadata": {
    "id": "zQpyhnvIl4tk"
   },
   "source": [
    "### Ζήτημα 1.1: Αρχική Εγκατάσταση"
   ]
  },
  {
   "cell_type": "markdown",
   "metadata": {
    "id": "CCC0JD1Il4tl"
   },
   "source": [
    "Θα χρησιμοποιήσουμε την ενότητα [Scikit-learn (Sklearn)](https://scikit-learn.org/stable/) για αυτή την άσκηση. Είναι μια από τις πιο χρήσιμες και ισχυρές βιβλιοθήκες για μηχανική μάθηση στην Python. Παρέχει μια επιλογή αποτελεσματικών εργαλείων για μηχανική μάθηση και στατιστική μοντελοποίηση, συμπεριλαμβανομένης της ταξινόμησης (classification), της παλινδρόμησης (regression), της ομαδοποίησης (clustering) και της μείωσης διάστασης (dimensionality reduction). Αυτό το πακέτο, το οποίο είναι σε μεγάλο βαθμό γραμμένο σε Python, βασίζεται στις βιβλιοθήκες NumPy, SciPy και Matplotlib.\n",
    "\n",
    "Αρχικά καλούμε/εγκαθιστούμε τη βασική μονάδα της βιβλιοθήκης sklearn."
   ]
  },
  {
   "cell_type": "code",
   "execution_count": 1,
   "metadata": {
    "id": "8ZiYlaSol4tm"
   },
   "outputs": [
    {
     "data": {
      "text/plain": [
       "'1.6.0'"
      ]
     },
     "execution_count": 1,
     "metadata": {},
     "output_type": "execute_result"
    }
   ],
   "source": [
    "# Importing the scikit-learn library.\n",
    "import sklearn\n",
    "\n",
    "# Using the __version__ attribute to print\n",
    "# the current version of the scikit-learn library installed.\n",
    "sklearn.__version__"
   ]
  },
  {
   "cell_type": "markdown",
   "metadata": {
    "id": "0SQL5iPKl4to"
   },
   "source": [
    "### Ζήτημα 1.2: Λήψη συνόλου δεδομένων χειρόγραφων ψηφίων \"MNIST\" και απεικόνιση παραδειγμάτων [1 μονάδα]"
   ]
  },
  {
   "cell_type": "markdown",
   "metadata": {
    "id": "-_f1_Tz7l4tq"
   },
   "source": [
    "Η βάση δεδομένων [MNIST](https://en.wikipedia.org/wiki/MNIST_database) (Modified National Institute of Standards and Technology database) είναι ένα αρκετά διαδεδομένο σύνολο δεδομένων που αποτελείται από εικόνες χειρόγραφων ψηφίων, διαστάσεων 28x28 σε κλίμακα του γκρι. Για αυτό το ζήτημα, θα χρησιμοποιήσουμε το πακέτο Sklearn για να κάνουμε ταξινόμηση μηχανικής μάθησης στο σύνολο δεδομένων MNIST.\n",
    "\n",
    "Το Sklearn παρέχει μια βάση δεδομένων MNIST χαμηλότερης ανάλυσης με εικόνες ψηφίων 8x8 pixel. Το πεδίο (attribute) `images` του συνόλου δεδομένων, αποθηκεύει πίνακες 8x8 τιμών κλίμακας του γκρι για κάθε εικόνα. Το πεδίο (attribute) `target` του συνόλου δεδομένων αποθηκεύει το ψηφίο που αντιπροσωπεύει κάθε εικόνα. Ολοκληρώστε τη συνάρτηση `plot_mnist_sample()` για να απεικονίσετε σε ένα σχήμα 2x5 ένα δείγμα εικόνας από κάθε μια κατηγορία (κάθε πλαίσιο του 2x5 σχήματος αντιστοιχεί σε ένα ψηφίο/εικόνα μιας κατηγορίας). Η παρακάτω εικόνα δίνει ένα παράδειγμα:\n",
    "<!-- <img src=\"./images/examples_mnist.PNG\" alt=\"drawing\" width=\"400\"/> -->\n",
    "![mnist](images/examples_mnist.PNG) "
   ]
  },
  {
   "cell_type": "code",
   "execution_count": 2,
   "metadata": {
    "id": "vbXpRqO1l4tq"
   },
   "outputs": [],
   "source": [
    "# Importing the numpy library, commonly used\n",
    "# for numerical computations\n",
    "import numpy as np\n",
    "\n",
    "# Importing the matplotlib.pyplot module for \n",
    "# reating visualizations and plots\n",
    "import matplotlib.pyplot as plt\n",
    "\n",
    "# Importing the datasets module from scikit-learn\n",
    "# to access built-in datasets for machine learning tasks\n",
    "from sklearn import datasets"
   ]
  },
  {
   "cell_type": "code",
   "execution_count": 3,
   "metadata": {
    "id": "3PTXSZhWl4tr"
   },
   "outputs": [
    {
     "name": "stdout",
     "output_type": "stream",
     "text": [
      "Images Shape (1797, 8, 8)\n",
      "Image Data Shape (1797, 64)\n",
      "Label Data Shape (1797,)\n"
     ]
    }
   ],
   "source": [
    "# Download MNIST Dataset from Sklearn\n",
    "digits = datasets.load_digits()\n",
    "\n",
    "# Print to show there are 1797 images (8 by 8)\n",
    "print(\"Images Shape\" , digits.images.shape)\n",
    "\n",
    "# Print to show there are 1797 image data\n",
    "# (8 by 8 images for a dimensionality of 64)\n",
    "print(\"Image Data Shape\" , digits.data.shape)\n",
    "\n",
    "# Print to show there are 1797 labels (integers from 0-9)\n",
    "print(\"Label Data Shape\", digits.target.shape)"
   ]
  },
  {
   "cell_type": "code",
   "execution_count": 4,
   "metadata": {
    "id": "p43geFB4l4tr"
   },
   "outputs": [],
   "source": [
    "def plot_mnist_sample(digits):\n",
    "    # Setting the figure size for the plot\n",
    "    plt.figure()\n",
    "    \n",
    "    # Looping through the first 10 digits to plot\n",
    "    for i in range(10):\n",
    "        # Creating a 2x5 grid layout for subplots\n",
    "        plt.subplot(2, 5, i + 1)\n",
    "        \n",
    "        # Displaying the image for the\n",
    "        # current digit in grayscale\n",
    "        plt.imshow(digits.images[i], cmap='gray')\n",
    "        \n",
    "        # Adding a title to each subplot with the\n",
    "        # corresponding label\n",
    "        plt.title(f\"Label: {digits.target[i]}\")\n",
    "        \n",
    "        # Hiding the axes for a cleaner\n",
    "        # visualization\n",
    "        plt.axis('off')\n",
    "    \n",
    "    # Adjusting layout to prevent overlapping\n",
    "    plt.tight_layout()\n",
    "    \n",
    "    # Displaying the plot\n",
    "    plt.show()"
   ]
  },
  {
   "cell_type": "code",
   "execution_count": 5,
   "metadata": {
    "id": "xEj8kOdul4tr"
   },
   "outputs": [
    {
     "data": {
      "image/png": "[encoded data removed]",
      "text/plain": [
       "<Figure size 640x480 with 10 Axes>"
      ]
     },
     "metadata": {},
     "output_type": "display_data"
    }
   ],
   "source": [
    "# PLOT CODE: DO NOT CHANGE\n",
    "# This code is for you to plot the results\n",
    "plot_mnist_sample(digits)"
   ]
  },
  {
   "cell_type": "markdown",
   "metadata": {
    "id": "sD68VE3pl4ts"
   },
   "source": [
    "### Ζήτημα 1.3: Αναγνώριση χειρόγραφων ψηφίων με Sklearn [2 μονάδες]"
   ]
  },
  {
   "cell_type": "markdown",
   "metadata": {
    "id": "W3ctL_Gwl4ts"
   },
   "source": [
    "Ένα από τα πιο ενδιαφέροντα πράγματα σχετικά με τη βιβλιοθήκη Sklearn είναι ότι παρέχει έναν εύκολο τρόπο δημιουργίας και κλήσης/χρήσης διαφορετικών μοντέλων. Σε αυτό το μέρος της άσκησης, θα αποκτήσετε εμπειρία με τα μοντέλα ταξινόμησης `LogisticRegressionClassifier` (ταξινόμηση με λογιστική παλινδρόμηση) και `kNNCalssifier` (ταξινόμηση με τη μέθοδο κ-κοντινότερων γειτόνων).\n",
    "\n",
    "Ακολουθούν αρχικά 2 βοηθητικές ρουτίνες: 1) μια *ρουτίνα δημιουργίας* mini-batches (παρτίδων) δεδομένων *εκπαίδευσης* και *ελέγχου*, αντίστοιχα, 2) μια *ρουτίνα ελέγχου* του εκάστοτε ταξινομητή στις παρτίδες δεδομένων (train/test): α) RandomClassifier(), β) LogisticRegressionClassifier(), γ) kNNClassifier καθώς και των ταξινομητών των ζητημάτων 1.4, 1.5, 1.6 και 2.2, 2.4, 2.5. Στη συνέχεια η συνάρτηση train_test_split() διαχωρίζει το σύνολο δεδομένων σε δεδομένα μάθησης (training set: <X_train, y_train>) και ελέγχου (test set: <X_test, y_test>).\n",
    "\n",
    "Ο κώδικας που ακολουθεί στη συνέχεια ορίζει κάποιες συναρτήσεις/μεθόδους για 3 ταξινομητές: 2 για τον RandomClassifier() και 3 μεθόδους για τους ταξινομητές LogisticRegressionClassifier() και kNNClassifier(). Οι 2 τελευταίες κλάσσεις έχουν μια μέθοδο __init__ για αρχικοποίηση, μια μέθοδο **train** για την εκπαίδευση του μοντέλου και μια μέθοδο __call__ για την πραγματοποίηση προβλέψεων. Πρέπει να συμπληρώσετε τα μέρη κώδικα που λείπουν από τις κλάσεις LogisticRegressionClassifier και kNNClassifier, χρησιμοποιώντας τις υλοποιήσεις `LogisticRegression` και `KNeighborsClassifier` από το Sklearn. Τέλος να συμπληρώσετε τον κώδικα για την αξιολόγηση του `KNeighborsClassifier` ταξινομητή στο σύνολο ελέγχου."
   ]
  },
  {
   "cell_type": "code",
   "execution_count": 6,
   "metadata": {
    "id": "bDZ8BK3Ol4ts"
   },
   "outputs": [],
   "source": [
    "# DO NOT CHANGE\n",
    "#### Some helper functions are given below ####\n",
    "def DataBatch(data, label, batchsize, shuffle=True):\n",
    "    \"\"\"\n",
    "    This function provides a generator for batches of data that \n",
    "    yields data (batchsize, 3, 32, 32) and labels (batchsize)\n",
    "    if shuffle, it will load batches in a random order\n",
    "    \"\"\"\n",
    "    n = data.shape[0]\n",
    "    \n",
    "    if shuffle:\n",
    "        index = np.random.permutation(n)\n",
    "    else:\n",
    "        index = np.arange(n)\n",
    "    \n",
    "    for i in range(int(np.ceil(n/batchsize))):\n",
    "        inds = index[i*batchsize : min(n,(i+1)*batchsize)]\n",
    "        yield data[inds], label[inds]\n",
    "\n",
    "\n",
    "def test(testData, testLabels, classifier):\n",
    "    \"\"\"\n",
    "    Call this function to test the accuracy of a classifier\n",
    "    \"\"\"\n",
    "    batchsize=50\n",
    "    correct=0.0\n",
    "    \n",
    "    for data,label in DataBatch(testData,testLabels,batchsize,shuffle=False):\n",
    "        prediction = classifier(data)\n",
    "        correct += np.sum(prediction==label)\n",
    "    \n",
    "    return correct/testData.shape[0]*100"
   ]
  },
  {
   "cell_type": "code",
   "execution_count": 7,
   "metadata": {
    "id": "QQ0N2RCZl4tt"
   },
   "outputs": [],
   "source": [
    "# DO NOT CHANGE\n",
    "# Split data into 90% train and 10% test subsets\n",
    "from sklearn.model_selection import train_test_split\n",
    "\n",
    "\n",
    "X_train, X_test, y_train, y_test = train_test_split(\n",
    "    digits.images.reshape((len(digits.images), -1)), digits.target, test_size=0.1, shuffle=False)"
   ]
  },
  {
   "cell_type": "code",
   "execution_count": 8,
   "metadata": {
    "id": "m6JnXh3jl4tt"
   },
   "outputs": [],
   "source": [
    "# Importing Logistic Regression model\n",
    "# from scikit-learn\n",
    "from sklearn.linear_model import LogisticRegression  \n",
    "\n",
    "# Importing K-Nearest Neighbors classifier\n",
    "# from scikit-learn\n",
    "from sklearn.neighbors import KNeighborsClassifier   \n",
    "\n",
    "\n",
    "class RandomClassifier():\n",
    "    \"\"\"\n",
    "    This is a sample classifier.\n",
    "    Given an input, it outputs a random class.\n",
    "    \"\"\"\n",
    "    def __init__(self, classes=10):\n",
    "        # Initializing the RandomClassifier\n",
    "        # with the number of classes\n",
    "        self.classes = classes\n",
    "    \n",
    "    def __call__(self, x):\n",
    "        # Generating random predictions\n",
    "        # for input data\n",
    "        return np.random.randint(self.classes, size=x.shape[0])\n",
    "\n",
    "\n",
    "class LogisticRegressionClassifier():\n",
    "    def __init__(self, sol='liblinear'):\n",
    "        \"\"\"\n",
    "        Initialize Logistic Regression model.\n",
    "        \n",
    "        Inputs:\n",
    "        sol: Solver method that the Logistic Regression model would use for optimization.\n",
    "        \"\"\"\n",
    "        # Creating a Logistic Regression model with\n",
    "        # specified solver and maximum iterations\n",
    "        self.model = LogisticRegression(solver=sol, max_iter=1000)\n",
    "        \n",
    "    def train(self, trainData, trainLabels):\n",
    "        \"\"\"\n",
    "        Train your model with image data and corresponding labels.\n",
    "        \n",
    "        Inputs:\n",
    "        trainData: Training images (N,64)\n",
    "        trainLabels: Labels (N,)\n",
    "        \"\"\"\n",
    "        # Fitting the Logistic Regression model\n",
    "        # to the training data and labels\n",
    "        self.model.fit(trainData, trainLabels)\n",
    "        \n",
    "    def __call__(self, x):\n",
    "        \"\"\"\n",
    "        Predict the trained model on test data.\n",
    "\n",
    "        Inputs:\n",
    "        x: Test images (N,64)\n",
    "\n",
    "        Returns:\n",
    "        predicted labels (N,)\n",
    "        \"\"\"\n",
    "        # Using the trained model to predict\n",
    "        # labels for the input data\n",
    "        return self.model.predict(x)\n",
    "\n",
    "\n",
    "class kNNClassifier():\n",
    "    def __init__(self, k=3, algorithm='brute'):\n",
    "        \"\"\"\n",
    "        Initialize KNN model.\n",
    "        \n",
    "        Inputs:\n",
    "        k: Number of neighbors involved in voting.\n",
    "        algorithm: Algorithm used to compute nearest neighbors.\n",
    "        \"\"\"\n",
    "        # Creating a K-Nearest Neighbors model\n",
    "        # with specified parameters\n",
    "        self.model = KNeighborsClassifier(n_neighbors=k, algorithm=algorithm)\n",
    "        \n",
    "    def train(self, trainData, trainLabels):\n",
    "        \"\"\"\n",
    "        Train your model with image data and corresponding labels.\n",
    "        \n",
    "        Inputs:\n",
    "        trainData: Training images (N,64)\n",
    "        trainLabels: Labels (N,)\n",
    "        \"\"\"\n",
    "        # Fitting the KNN model to the\n",
    "        # training data and labels\n",
    "        self.model.fit(trainData, trainLabels)\n",
    "        \n",
    "    def __call__(self, x):\n",
    "        \"\"\"\n",
    "        Predict the trained model on test data.\n",
    "\n",
    "        Inputs:\n",
    "        x: Test images (N,64)\n",
    "\n",
    "        Returns:\n",
    "        predicted labels (N,)\n",
    "        \"\"\"\n",
    "        # Using the trained model\n",
    "        # to predict labels for the input data\n",
    "        return self.model.predict(x)"
   ]
  },
  {
   "cell_type": "code",
   "execution_count": 9,
   "metadata": {
    "id": "ZQ9k9kw-l4tt"
   },
   "outputs": [
    {
     "name": "stdout",
     "output_type": "stream",
     "text": [
      "Random classifier accuracy: 7.222222\n"
     ]
    }
   ],
   "source": [
    "# TEST CODE: DO NOT CHANGE\n",
    "randomClassifierX = RandomClassifier()\n",
    "print ('Random classifier accuracy: %f' % test(X_test, y_test, randomClassifierX))"
   ]
  },
  {
   "cell_type": "code",
   "execution_count": 10,
   "metadata": {
    "id": "tOGbN8GDl4tu"
   },
   "outputs": [
    {
     "name": "stdout",
     "output_type": "stream",
     "text": [
      "Logistic Regression Classifier classifier accuracy: 93.888889\n"
     ]
    }
   ],
   "source": [
    "# TEST CODE: DO NOT CHANGE\n",
    "# TEST LogisticRegressionClassifier\n",
    "lrClassifierX = LogisticRegressionClassifier()\n",
    "lrClassifierX.train(X_train, y_train)\n",
    "print ('Logistic Regression Classifier classifier accuracy: %f' % test(X_test, y_test, lrClassifierX))"
   ]
  },
  {
   "cell_type": "code",
   "execution_count": 11,
   "metadata": {
    "id": "WN3IyTafl4tu"
   },
   "outputs": [
    {
     "name": "stdout",
     "output_type": "stream",
     "text": [
      "k-NN Classifier accuracy: 96.666667\n"
     ]
    }
   ],
   "source": [
    "# TEST kNNClassifier\n",
    "knnClassifierX = kNNClassifier(k=3)\n",
    "knnClassifierX.train(X_train, y_train)\n",
    "print('k-NN Classifier accuracy: %f' % test(X_test, y_test, knnClassifierX))"
   ]
  },
  {
   "cell_type": "markdown",
   "metadata": {
    "id": "jt39SvrEl4tv"
   },
   "source": [
    "### Ζήτημα 1.4: Πίνακας Σύγχυσης [2 μονάδες]"
   ]
  },
  {
   "cell_type": "markdown",
   "metadata": {
    "id": "9jm0Zmzcl4tv"
   },
   "source": [
    "Ένας πίνακας σύγχυσης είναι ένας 2Δ πίνακας που χρησιμοποιείται συχνά για να περιγράψει την απόδοση ενός μοντέλου ταξινόμησης σε ένα σύνολο δεδομένων ελέγχου/δοκιμής (test data) για τα οποία είναι γνωστές οι πραγματικές τιμές (known labels). Εδώ θα υλοποιήσετε τη συνάρτηση που υπολογίζει τον πίνακα σύγχυσης για έναν ταξινομητή. Ο πίνακας (M) πρέπει να είναι $n \\times n$ όπου $n$ είναι ο αριθμός των κλάσεων/κατηγοριών. Η καταχώριση `M[i,j]` πρέπει να περιέχει το ποσοστό/λόγο των εικόνων της κατηγορίας `i` που ταξινομήθηκε ως κατηγορία `j`. Αν οι καταχωρήσεις `M[i,j]` έχουν υπολογιστεί σωστά, τότε τα στοιχεία `M[k,j]` κατά μήκος μιας γραμμής $k$ για $j \\neq k$ (εκτός της κύριας διαγωνίου) αναμένεται να αντιστοιχούν σε \"ψευδώς αρνητικές\" ταξινομήσεις (false negatives), ενώ τα στοιχεία `M[i,k]` κατά μήκος μιας στήλης $k$ για $i \\neq k$ (εκτός της κύριας διαγωνίου) αναμένεται να αντιστοιχούν σε \"ψευδώς θετικές\" ταξινομήσεις (false positives). Το ακόλουθο παράδειγμα δείχνει τον πίνακα σύγχυσης για τον `RandomClassifier` ταξινομητή. Ο στόχος σας είναι να σχεδιάσετε τα αποτελέσματα για τον `LogisticRegressionClassifier` και τον `kNNClassifier` ταξινομητή. *Να δώσετε προσοχή* στο άθροισμα των στοιχείων μιας γραμμής (false negatives) `M[i,:]` ώστε να αθροίζει σωστά, στο συνολικό ποσοστό ταξινόμησης (100% ή 1). Αν δεν συμβαίνει κάτι τέτοιο, μπορεί να χρειαστείτε κανονικοποίηση των τιμών. \n",
    "\n",
    "<!-- <img src=\"./images/eg_confusion.PNG\" alt=\"drawing\" width=\"250\"/> -->\n",
    "![confusion](images/eg_confusion.PNG) "
   ]
  },
  {
   "cell_type": "code",
   "execution_count": 12,
   "metadata": {
    "id": "HP43z3lOl4tv"
   },
   "outputs": [],
   "source": [
    "# Importing tqdm for creating\n",
    "# progress bars\n",
    "from tqdm import tqdm  \n",
    "\n",
    "\n",
    "def Confusion(testData, testLabels, classifier):\n",
    "    \"\"\"\n",
    "    Compute the confusion matrix and accuracy for the classifier.\n",
    "\n",
    "    Inputs:\n",
    "    testData: Test images (N,64)\n",
    "    testLabels: True labels (N,)\n",
    "    classifier: The classifier to evaluate\n",
    "\n",
    "    Returns:\n",
    "    M: Confusion matrix (10x10)\n",
    "    acc: Accuracy in percentage\n",
    "    \"\"\"\n",
    "    # Batch size for processing the\n",
    "    # test data in chunks\n",
    "    batchsize = 50\n",
    "\n",
    "    # Counter for correct\n",
    "    # predictions\n",
    "    correct = 0  \n",
    "\n",
    "    # Initializing a 10x10\n",
    "    # confusion matrix\n",
    "    M = np.zeros((10, 10))  \n",
    "    \n",
    "    # Counter for the total\n",
    "    # number of samples processed\n",
    "    count = 0  \n",
    "\n",
    "    # Iterating through test data in batches\n",
    "    for data, label in tqdm(DataBatch(testData, testLabels, batchsize, shuffle=False), total=len(testData) // batchsize):\n",
    "        # Getting predictions from the\n",
    "        # classifier for the current batch\n",
    "        predictions = classifier(data)\n",
    "\n",
    "        # Counting occurrences of each\n",
    "        # true-predicted pair\n",
    "        unique_labels, unique_counts = np.unique(\n",
    "            np.stack((label, predictions), axis=1), axis=0, return_counts=True\n",
    "        )\n",
    "        \n",
    "        # Updating the confusion matrix with\n",
    "        # the counts of each true-predicted pair\n",
    "        for (true_class, predicted_class), occurrences in zip(unique_labels, unique_counts):\n",
    "            M[true_class, predicted_class] += occurrences\n",
    "\n",
    "        # Counting the number of correct predictions\n",
    "        correct += np.sum(label == predictions)\n",
    "        \n",
    "        # Updating the total number of processed samples\n",
    "        count += len(label)\n",
    "\n",
    "    # Calculating accuracy as a percentage\n",
    "    acc = correct / count * 100.0\n",
    "\n",
    "    return M, acc\n",
    "\n",
    "def VisualizeConfussion(M):\n",
    "    \"\"\"\n",
    "    Visualize the confusion matrix.\n",
    "\n",
    "    Inputs:\n",
    "    M: Confusion matrix (10x10)\n",
    "    \"\"\"\n",
    "    # Setting the figure size\n",
    "    # for the visualization\n",
    "    plt.figure(figsize=(14, 6))\n",
    "\n",
    "    # Displaying the confusion\n",
    "    # matrix as an image\n",
    "    plt.imshow(M)\n",
    "\n",
    "    # Showing the plot\n",
    "    plt.show()  \n",
    "\n",
    "    # Printing the rounded confusion\n",
    "    # matrix values for reference\n",
    "    print(np.round(M, 2))  "
   ]
  },
  {
   "cell_type": "code",
   "execution_count": 13,
   "metadata": {
    "id": "suvefA82l4tv"
   },
   "outputs": [
    {
     "name": "stderr",
     "output_type": "stream",
     "text": [
      "4it [00:00, 1052.92it/s]                                                        \n"
     ]
    },
    {
     "data": {
      "image/png": "[encoded data removed]",
      "text/plain": [
       "<Figure size 1400x600 with 1 Axes>"
      ]
     },
     "metadata": {},
     "output_type": "display_data"
    },
    {
     "name": "stdout",
     "output_type": "stream",
     "text": [
      "[[16.  0.  0.  0.  0.  0.  0.  0.  0.  0.]\n",
      " [ 0. 17.  0.  0.  1.  0.  0.  0.  1.  0.]\n",
      " [ 0.  0. 17.  0.  0.  0.  0.  0.  0.  0.]\n",
      " [ 0.  0.  0. 12.  0.  2.  0.  0.  4.  0.]\n",
      " [ 0.  0.  0.  0. 18.  0.  0.  0.  0.  2.]\n",
      " [ 0.  0.  0.  0.  0. 18.  0.  0.  0.  0.]\n",
      " [ 0.  0.  0.  0.  0.  0. 18.  0.  0.  0.]\n",
      " [ 0.  0.  0.  0.  0.  0.  0. 19.  0.  0.]\n",
      " [ 0.  0.  0.  0.  0.  0.  0.  0. 17.  0.]\n",
      " [ 0.  0.  0.  1.  0.  0.  0.  0.  0. 17.]]\n"
     ]
    }
   ],
   "source": [
    "# TEST/PLOT CODE: DO NOT CHANGE\n",
    "# TEST LogisticRegressionClassifier\n",
    "M,acc = Confusion(X_test, y_test, lrClassifierX)\n",
    "VisualizeConfussion(M)"
   ]
  },
  {
   "cell_type": "code",
   "execution_count": 14,
   "metadata": {
    "id": "YWZFcKjal4tw"
   },
   "outputs": [
    {
     "name": "stderr",
     "output_type": "stream",
     "text": [
      "4it [00:00, 327.27it/s]                                                         \n"
     ]
    },
    {
     "data": {
      "image/png": "[encoded data removed]",
      "text/plain": [
       "<Figure size 1400x600 with 1 Axes>"
      ]
     },
     "metadata": {},
     "output_type": "display_data"
    },
    {
     "name": "stdout",
     "output_type": "stream",
     "text": [
      "[[16.  0.  0.  0.  0.  0.  0.  0.  0.  0.]\n",
      " [ 0. 19.  0.  0.  0.  0.  0.  0.  0.  0.]\n",
      " [ 0.  0. 17.  0.  0.  0.  0.  0.  0.  0.]\n",
      " [ 0.  0.  1. 16.  0.  1.  0.  0.  0.  0.]\n",
      " [ 0.  0.  0.  0. 19.  0.  0.  0.  0.  1.]\n",
      " [ 0.  0.  0.  0.  0. 18.  0.  0.  0.  0.]\n",
      " [ 0.  0.  0.  0.  0.  0. 18.  0.  0.  0.]\n",
      " [ 0.  0.  0.  0.  0.  0.  0. 19.  0.  0.]\n",
      " [ 0.  1.  0.  0.  0.  0.  0.  0. 16.  0.]\n",
      " [ 0.  0.  0.  1.  0.  1.  0.  0.  0. 16.]]\n"
     ]
    }
   ],
   "source": [
    "# TEST/PLOT CODE: DO NOT CHANGE\n",
    "# TEST kNNClassifier\n",
    "M,acc = Confusion(X_test, y_test, knnClassifierX)\n",
    "VisualizeConfussion(M)"
   ]
  },
  {
   "cell_type": "markdown",
   "metadata": {
    "id": "0HnFGSRFl4tw"
   },
   "source": [
    "### Ζήτημα 1.5: κ-Κοντινότεροι Γείτονες (k-Nearest Neighbors/kNN) [4 μονάδες]"
   ]
  },
  {
   "cell_type": "markdown",
   "metadata": {
    "id": "1l8Vxkoil4tw"
   },
   "source": [
    "Για αυτό το πρόβλημα, θα ολοκληρώσετε έναν απλό ταξινομητή kNN χωρίς χρήση του πακέτου Sklearn. Η μέτρηση της απόστασης είναι η Ευκλείδεια απόσταση (L2 norm) στον χώρο των pixel, την οποία και θα πρέπει να υλοποιήσετε (`euclidean_distance`). Το $k$ αναφέρεται στον αριθμό των γειτόνων που συμμετέχουν στην ψηφοφορία για την ομάδα/κλάση. Έπειτα, θα πρέπει να υλοποιήσετε την `find_k_nearest_neighbors` που υπολογίζει την απόσταση του δοθέντος δείγματος από όλα τα δείγματα εκπαίδευσης, ταξινομεί τις αποστάσεις και επιστρέφει τους δείκτες των $k$ κοντινότερων γειτόνων. Τέλος, για κάθε δείγμα του συνόλου δοκιμών, μέσω της ρουτίνας `__call__` βρίσκετε τους $k$ κοντινότερους γείτονες και εκτελείτε \"ψηφοφορία\" για την προβλεπόμενη κλάση."
   ]
  },
  {
   "cell_type": "code",
   "execution_count": 15,
   "metadata": {
    "id": "C-D-znLZl4tx"
   },
   "outputs": [],
   "source": [
    "class kNNClassifier_v1_5():\n",
    "    def __init__(self, k=3):\n",
    "        # Initialize the kNN classifier with \n",
    "        # he number of neighbors (k)\n",
    "        self.k = k\n",
    "\n",
    "    def train(self, trainData, trainLabels):\n",
    "        \"\"\"\n",
    "        Stores the training data.\n",
    "\n",
    "        Inputs:\n",
    "        trainData: Training data samples (N, D)\n",
    "        trainLabels: Labels corresponding to the training data (N,)\n",
    "        \"\"\"\n",
    "        # Storing training data and labels\n",
    "        # for reference during prediction\n",
    "        self.X_train = trainData\n",
    "        self.y_train = trainLabels\n",
    "\n",
    "    def euclidean_distance(self, x1, x2):\n",
    "        \"\"\"\n",
    "        Calculates the Euclidean distance between two vectors.\n",
    "\n",
    "        Inputs:\n",
    "        x1: First vector (D,)\n",
    "        x2: Second vector (D,)\n",
    "\n",
    "        Returns:\n",
    "        Euclidean distance (float)\n",
    "        \"\"\"\n",
    "        # Calculating the Euclidean distance as the\n",
    "        # square root of the sum of squared differences\n",
    "        return np.sqrt(np.sum((x1 - x2) ** 2))\n",
    "\n",
    "    def find_k_nearest_neighbors(self, x):\n",
    "        \"\"\"\n",
    "        Finds the k nearest neighbors for the given input sample x.\n",
    "\n",
    "        Inputs:\n",
    "        x: Input sample (D,)\n",
    "\n",
    "        Returns:\n",
    "        indices: Indices of the k nearest neighbors (k,)\n",
    "        \"\"\"\n",
    "        # Calculating distances from x to\n",
    "        # all training samples\n",
    "        distances = np.array([self.euclidean_distance(x, x_train) for x_train in self.X_train])\n",
    "        \n",
    "        # Getting the indices of the k\n",
    "        # smallest distances\n",
    "        indices = np.argsort(distances)[:self.k]\n",
    "        return indices\n",
    "\n",
    "    def __call__(self, X):\n",
    "        \"\"\"\n",
    "        Predicts the labels for the input data X using the kNN classifier.\n",
    "\n",
    "        Inputs:\n",
    "        X: Test data samples (N, D)\n",
    "\n",
    "        Returns:\n",
    "        predicted_labels: Predicted labels for the test data (N,)\n",
    "        \"\"\"\n",
    "        # Initializing a list to store\n",
    "        # predicted labels\n",
    "        predicted_labels = []\n",
    "        \n",
    "        # Iterating through each test sample\n",
    "        for x in X:\n",
    "            # Finding the k nearest neighbors\n",
    "            # for the current sample\n",
    "            neighbor_indices = self.find_k_nearest_neighbors(x)\n",
    "            \n",
    "            # Retrieving the labels of\n",
    "            # the k nearest neighbors\n",
    "            neighbor_labels = [self.y_train[i] for i in neighbor_indices]\n",
    "            \n",
    "            # Determining the most frequent\n",
    "            # label among the neighbors using voting\n",
    "            most_common_label = np.bincount(neighbor_labels).argmax()\n",
    "            \n",
    "            # Appending the predicted label\n",
    "            # for the current sample\n",
    "            predicted_labels.append(most_common_label)\n",
    "        \n",
    "        # Returning the predicted labels\n",
    "        # as a numpy array\n",
    "        return np.array(predicted_labels)"
   ]
  },
  {
   "cell_type": "code",
   "execution_count": 16,
   "metadata": {
    "id": "wPVvwhp0l4tx"
   },
   "outputs": [
    {
     "name": "stdout",
     "output_type": "stream",
     "text": [
      "kNN classifier accuracy: 96.666667\n"
     ]
    }
   ],
   "source": [
    "# TEST/PLOT CODE: DO NOT CHANGE\n",
    "# TEST kNNClassifierManual\n",
    "knnClassifierManualX = kNNClassifier_v1_5()\n",
    "knnClassifierManualX.train(X_train, y_train)\n",
    "print ('kNN classifier accuracy: %f' % test(X_test, y_test, knnClassifierManualX))"
   ]
  },
  {
   "cell_type": "markdown",
   "metadata": {
    "id": "jZQQIiKPnRQF"
   },
   "source": [
    "### Ζήτημα 1.6: PCA + κ-κοντινότεροι γείτονες (PCA/k-NN) [6 μονάδες] \n",
    "\n",
    "Σε αυτό το ζήτημα θα εφαρμόσετε έναν απλό ταξινομητή kNN, αλλά στον χώρο PCA, δηλαδή όχι τον χώρο των πίξελ, αλλά αυτόν\n",
    "που προκύπτει μετά από ανάλυση σε πρωτεύουσες συνιστώσες των εικόνων του συνόλου εκπαίδευσης (για k=3 και 25 πρωτεύουσες συνιστώσες).\n",
    "\n",
    "Θα πρέπει να υλοποιήσετε μόνοι σας την PCA χρησιμοποιώντας \"Singular Value Decomposition (SVD)\".\n",
    "Η χρήση του `sklearn.decomposition.PCA` ή οποιουδήποτε άλλου πακέτου που υλοποιεί άμεσα μετασχηματισμούς PCA **θα οδηγήσει σε μείωση μονάδων**. Μπορείτε να χρησιμοποιήσετε τη ρουτίνα `np.linalg.eigh` για την υλοποίησή σας. Προσοχή στον χειρισμό μηδενικών `singular values` μέσα στην υλοποίηση της `svd`.\n",
    "\n",
    "Μπορείτε να χρησιμοποιήσετε την προηγούμενη υλοποίηση του ταξινομητή `kNNClassifier_v1_5` σε αυτό το ζήτημα (Υπόδειξη: ορισμός πεδίου `self.knn = ...` μέσα στην `__init__`). Διαφορετικά, μπορείτε να υλοποιήσετε εκ νέου τον ταξινομητή kNN μέσα στην `__call__` με χρήση της `np.linalg.norm`. Μη ξεχάσετε να καλέσετε την προηγούμενη υλοποίηση του πίνακα σύγχυσης `Confusion` για την αξιολόγηση της μεθόδου στο τέλος του ζητήματος.\n",
    "\n",
    "Είναι ο χρόνος ελέγχου για τον ταξινομητή PCA-kNN μεγαλύτερος ή μικρότερος από αυτόν για τον ταξινομητή kNN; Εφόσον διαφέρει, **σχολιάστε** γιατί στο τέλος της άσκησης."
   ]
  },
  {
   "cell_type": "code",
   "execution_count": 17,
   "metadata": {
    "id": "e06z90dxm7Af",
    "scrolled": true,
    "tags": []
   },
   "outputs": [
    {
     "name": "stdout",
     "output_type": "stream",
     "text": [
      "PCA-kNN classifier accuracy: 85.000000\n"
     ]
    }
   ],
   "source": [
    "def svd(A):\n",
    "    \"\"\"\n",
    "    Computes the Singular Value Decomposition (SVD) of matrix A.\n",
    "    Returns U, singular_values, and V.T.\n",
    "\n",
    "    Inputs:\n",
    "    A: Input matrix (M, N)\n",
    "\n",
    "    Returns:\n",
    "    U: Left singular vectors (M, M)\n",
    "    singular_values: Singular values (min(M, N))\n",
    "    V_T: Right singular vectors transposed (N, N)\n",
    "    \"\"\"\n",
    "    # Performing SVD on the matrix A\n",
    "    U, singular_values, V_T = np.linalg.svd(A, full_matrices=False)\n",
    "    return U, singular_values, V_T\n",
    "\n",
    "\n",
    "class PCAKNNClassifer():\n",
    "    def __init__(self, components=25, k=3):\n",
    "        \"\"\"\n",
    "        Initializes the PCA-KNN classifier.\n",
    "\n",
    "        Inputs:\n",
    "        components: Number of principal components to keep.\n",
    "        k: Number of neighbors for the kNN classifier.\n",
    "        \"\"\"\n",
    "        # Number of principal components\n",
    "        self.components = components  \n",
    "        \n",
    "        # Number of neighbors for kNN\n",
    "        self.k = k  \n",
    "\n",
    "        # Placeholder for the kNN model\n",
    "        self.knn = None  \n",
    "\n",
    "        # Mean of the training data for normalization\n",
    "        self.mean = None\n",
    "\n",
    "        # Matrix of principal components\n",
    "        self.V = None  \n",
    "\n",
    "    def train(self, trainData, trainLabels):\n",
    "        \"\"\"\n",
    "        Trains the PCA-KNN classifier with the given data and labels.\n",
    "\n",
    "        Inputs:\n",
    "        trainData: Training data samples (N, D)\n",
    "        trainLabels: Training labels (N,)\n",
    "        \"\"\"\n",
    "        # Computing the mean for normalization\n",
    "        self.mean = np.mean(trainData, axis=0)\n",
    "        X_centered = trainData - self.mean\n",
    "\n",
    "        # Performing Singular Value\n",
    "        # Decomposition (SVD) on the centered data\n",
    "        U, D, V_T = svd(X_centered)\n",
    "\n",
    "        # Selecting the top 'components' principal components\n",
    "        self.V = V_T[:self.components, :]\n",
    "\n",
    "        # Projecting the data onto the space\n",
    "        # of the principal components\n",
    "        Z = np.dot(X_centered, self.V.T)\n",
    "\n",
    "        # Training the kNN classifier with\n",
    "        # the projected data\n",
    "        self.knn = kNNClassifier_v1_5(k=self.k)\n",
    "        self.knn.train(Z, trainLabels)\n",
    "\n",
    "    def __call__(self, X):\n",
    "        \"\"\"\n",
    "        Makes predictions on new data using the trained PCA-KNN classifier.\n",
    "\n",
    "        Inputs:\n",
    "        X: Test data samples (M, D)\n",
    "\n",
    "        Returns:\n",
    "        Predicted labels for the test data (M,)\n",
    "        \"\"\"\n",
    "        # Normalizing the test data using\n",
    "        # the mean of the training data\n",
    "        X_centered = X - self.mean\n",
    "\n",
    "        # Projecting the test data onto\n",
    "        # the space of the principal components\n",
    "        Z = np.dot(X_centered, self.V.T)\n",
    "\n",
    "        # Making predictions using\n",
    "        # the kNN classifier\n",
    "        return self.knn(Z)\n",
    "\n",
    "\n",
    "# Test the PCA-KNN classifier using the first\n",
    "# 100 training examples (useful for debugging)\n",
    "pcaknnClassiferX = PCAKNNClassifer()\n",
    "pcaknnClassiferX.train(X_train[:100], y_train[:100])\n",
    "\n",
    "# Testing and printing the accuracy of the\n",
    "# PCA-KNN classifier\n",
    "print('PCA-kNN classifier accuracy: %f' % test(X_test, y_test, pcaknnClassiferX))"
   ]
  },
  {
   "cell_type": "code",
   "execution_count": 18,
   "metadata": {
    "id": "eSbD_cdeoOY5"
   },
   "outputs": [
    {
     "name": "stderr",
     "output_type": "stream",
     "text": [
      "4it [00:01,  2.70it/s]                                                          \n"
     ]
    },
    {
     "data": {
      "image/png": "[encoded data removed]",
      "text/plain": [
       "<Figure size 1400x600 with 1 Axes>"
      ]
     },
     "metadata": {},
     "output_type": "display_data"
    },
    {
     "name": "stdout",
     "output_type": "stream",
     "text": [
      "[[16.  0.  0.  0.  0.  0.  0.  0.  0.  0.]\n",
      " [ 0. 19.  0.  0.  0.  0.  0.  0.  0.  0.]\n",
      " [ 0.  0. 17.  0.  0.  0.  0.  0.  0.  0.]\n",
      " [ 0.  0.  0. 16.  0.  1.  0.  0.  1.  0.]\n",
      " [ 0.  0.  0.  0. 20.  0.  0.  0.  0.  0.]\n",
      " [ 0.  0.  0.  0.  0. 18.  0.  0.  0.  0.]\n",
      " [ 0.  0.  0.  0.  0.  0. 18.  0.  0.  0.]\n",
      " [ 0.  0.  0.  0.  0.  0.  0. 19.  0.  0.]\n",
      " [ 0.  1.  0.  0.  0.  0.  0.  1. 15.  0.]\n",
      " [ 0.  0.  0.  1.  0.  1.  0.  0.  0. 16.]]\n"
     ]
    }
   ],
   "source": [
    "# Initializing the PCA-KNN classifier with\n",
    "# default parameters (25 principal components and k=3)\n",
    "pcaknnClassifer = PCAKNNClassifer()\n",
    "\n",
    "# Training the PCA-KNN classifier on\n",
    "# the full training dataset\n",
    "pcaknnClassifer.train(X_train, y_train)\n",
    "\n",
    "# Generating the confusion matrix and\n",
    "# calculating accuracy for the PCA-KNN\n",
    "# classifier on the test dataset\n",
    "M_pca, accuracy_pca = Confusion(X_test, y_test, pcaknnClassifer)\n",
    "\n",
    "# Visualizing the confusion matrix\n",
    "VisualizeConfussion(M_pca)"
   ]
  },
  {
   "cell_type": "markdown",
   "metadata": {
    "id": "iuQfPRnEpM9c"
   },
   "source": [
    "- Σχολιασμός του χρόνου εκτέλεσης PCA-kNN σε σχέση με τον kNN.\n",
    "\n",
    "Ο PCA-kNN απαιτεί περισσότερο χρόνο προεπεξεργασίας λόγω της μείωσης διαστάσεων (PCA), αλλά μειώνει το χρόνο πρόβλεψης του kNN για μεγάλα δεδομένα. Αυτό οδηγεί σε ένα συμβιβασμό μεταξύ αρχικού κόστους και αποδοτικότητας πρόβλεψης."
   ]
  },
  {
   "cell_type": "markdown",
   "metadata": {
    "id": "R8ol8VCDpV8Q"
   },
   "source": [
    "## Άσκηση 2: Βαθιά Μάθηση [15 μονάδες + bonus 5 μονάδες (ζήτημα 2.5)]\n"
   ]
  },
  {
   "cell_type": "markdown",
   "metadata": {
    "id": "aYf3GsdmpfvS"
   },
   "source": [
    "### Ζήτημα 2.1 Αρχική Εγκατάσταση (απεικόνιση παραδειγμάτων) [1 μονάδα]\n",
    "\n",
    "- **Τοπικά** (jupyter):\n",
    "Ακολουθήστε τις οδηγίες στη διεύθυνση https://pytorch.org/get-started/locally/ για να εγκαταστήσετε την PyΤorch τοπικά στον υπολογιστή σας.\n",
    "Για παράδειγμα, αφού δημιουργήσετε και ενεργοποιήσετε κάποιο εικονικό περιβάλλον anaconda με τις εντολές: π.χ. `(base)$ conda create -n askisi`, `(base)$ conda activate askisi`, η εντολή `(askisi)$ conda install pytorch torchvision torchaudio cpuonly -c pytorch` εγκαθιστά την βιβλιοθήκη \"PyTorch\" σε περιβάλλον Linux/Windows χωρίς GPU υποστήριξη.\n",
    "\n",
    "**Προσοχή** σε αυτό το σημείο, αν τρέχετε την άσκηση τοπικά σε jupyter, εκτός της εγκατάστασης του PyTorch, θα χρειαστούν ξανά και κάποιες βιβλιοθήκες `matplotlib`, `scipy`, `tqdm` και `sklearn` (όπως και στην 1η άσκηση), μέσα στο περιβάλλον 'askisi', πριν ανοίξετε το jupyter: `(askisi)$ conda install matplotlib tqdm scipy` και `(askisi)$ conda install -c anaconda scikit-learn`. Αυτό χρειάζεται διότι σε ορισμένες περιπτώσεις, αφού εγκαταστήσετε τις βιβλιοθήκες που απαιτούνται, πρέπει να εξασφαλίσετε ότι ο *Python Kernel* αναγνωρίζει την προϋπάρχουσα εγκατάσταση (PyTorch, matplotlib, tqdm, κτλ.).\n",
    "Τέλος, χρειάζεται να εγκαταστήσετε το jupyter ή jupyterlab μέσω του περιβάλλοντος conda: `(askisi)$ conda install jupyter` και μετά να εκτελέσετε `(askisi)$ jupyter notebook` για να ανοίξετε το jupyter με τη σωστή εγκατάσταση. Αν όλα έχουν γίνει σωστά, θα πρέπει ο *Python Kernel* να βλέπει όλα τα 'modules' που χρειάζεστε στη 2η άσκηση. Διαφορετικά, μπορείτε να εγκαταστήσετε εξ' αρχής όλες τις βιβλιοθήκες, από την αρχή υλοποίησης της εργασίας, μέσα στο εικονικό περιβάλλον *askisi* ώστε να μην είναι απαραίτητη εκ νέου η εγκατάσταση των βιβλιοθηκών που θα χρειαστούν στη 2η άσκηση.\n",
    "\n",
    "- **Colab**: **Αν** χρησιμοποιείτε google colab, τότε δεν θα χρειαστεί λογικά κάποιο βήμα εγκατάστασης. Αν ωστόσο σας παρουσιαστεί κάποιο πρόβλημα με απουσία πακέτου, π.χ. \"ModuleNotFoundError - torchvision\", τότε μπορείτε απλώς να το εγκαταστήσετε με χρήση του εργαλείου `pip` εκτελώντας την αντίστοιχη εντολή (π.χ. \"!pip install torchvision\") σε ένα νέο κελί του notebook.\n",
    "\n",
    "Σημείωση: Δεν θα είναι απαραίτητη η χρήση GPU για αυτήν την άσκηση, γι' αυτό μην ανησυχείτε αν δεν έχετε ρυθμίσει την εγκατάσταση με υποστήριξη GPU. Επιπλέον, η εγκατάσταση με υποστήριξη GPU είναι συχνά πιο δύσκολη στη διαμόρφωση, γι' αυτό και προτείνεται να εγκαταστήσετε μόνο την έκδοση CPU. \n",
    "\n",
    "Εκτελέστε τις παρακάτω εντολές για να επαληθεύσετε την εγκατάστασή σας (PyTorch)."
   ]
  },
  {
   "cell_type": "code",
   "execution_count": 19,
   "metadata": {
    "id": "nQC44M9Rp1VR"
   },
   "outputs": [
    {
     "name": "stdout",
     "output_type": "stream",
     "text": [
      "tensor([[0.7117, 0.6265, 0.1357],\n",
      "        [0.9233, 0.4282, 0.3284],\n",
      "        [0.4929, 0.7422, 0.7441],\n",
      "        [0.1626, 0.5587, 0.9198],\n",
      "        [0.3632, 0.1305, 0.4415]])\n"
     ]
    }
   ],
   "source": [
    "# Importing the SciPy library\n",
    "# for scientific computations\n",
    "import scipy  \n",
    "\n",
    "# Importing the neural network\n",
    "# module from PyTorch\n",
    "import torch.nn as nn  \n",
    "\n",
    "# Importing functional utilities \n",
    "# for neural networks in PyTorch\n",
    "import torch.nn.functional as F\n",
    "\n",
    "# Importing PyTorch for tensor\n",
    "# computations and deep learning\n",
    "import torch  \n",
    "\n",
    "# Importing Variable for wrapping\n",
    "# tensors for gradient computation\n",
    "from torch.autograd import Variable  \n",
    "\n",
    "\n",
    "# Creating a 5x3 tensor filled\n",
    "# with random values\n",
    "x = torch.rand(5, 3)\n",
    "\n",
    "# Printing the tensor to\n",
    "# display its random values\n",
    "print(x)"
   ]
  },
  {
   "cell_type": "markdown",
   "metadata": {
    "id": "Ai7Lktn5tLBz"
   },
   "source": [
    "Σε αυτή την άσκηση, θα χρησιμοποιήσουμε το πλήρες σύνολο δεδομένων της βάσης δεδομένων MNIST με τις εικόνες ψηφίων 28x28 pixel (60.000 εικόνες εκπαίδευσης, 10.000 εικόνες ελέγχου).\n",
    "\n",
    "Ο κώδικας που ακολουθεί \"κατεβάζει\" το σύνολο δεδομένων MNIST της κλάσης [torchvision.datasets](https://pytorch.org/vision/main/generated/torchvision.datasets.MNIST.html#torchvision.datasets.MNIST), στο φάκελο `mnist` (του root καταλόγου). \n",
    "Μπορείτε να αλλάξετε τον κατάλογο που δείχνει η μεταβλητή `path` στη διαδρομή που επιθυμείτε. Ενδεικτικό `path` σε περιβάλλον Windows: **path = 'C:/Users/user/Υπολογιστική Όραση/assignments/assignment/'**. Στην περίπτωση που εργάζεστε μέσω **colab** μπορεί να χρειαστεί η φόρτωση του καταλόγου στο drive, εκτελώντας `from google.colab import drive` και `drive.mount('/content/gdrive')` και μετά θέτοντας π.χ το **path = '/content/gdrive/assignment/'**.\n",
    "\n",
    "- Θα πρέπει να απεικονίσετε σε ένα σχήμα 2x5 ένα τυχαίο παράδειγμα εικόνας που αντιστοιχεί σε κάθε ετικέτα (κατηγορία) από τα δεδομένα εκπαίδευσης (αντίστοιχα του ζητήματος 1.2)."
   ]
  },
  {
   "cell_type": "code",
   "execution_count": 20,
   "metadata": {},
   "outputs": [],
   "source": [
    "# Importing PyTorch for\n",
    "# tensor computations\n",
    "import torch  \n",
    "\n",
    "# Importing torchvision for\n",
    "# accessing datasets\n",
    "import torchvision.datasets as datasets  \n",
    "\n",
    "# Importing additional libraries\n",
    "# for visualization and numerical operations\n",
    "import matplotlib.pyplot as plt\n",
    "import numpy as np\n",
    "\n",
    "\n",
    "# Define the directory path where\n",
    "# the MNIST dataset will be downloaded/stored\n",
    "path = './mnist/'\n",
    "\n",
    "# Load the MNIST training dataset\n",
    "train_dataset = datasets.MNIST(root=path, train=True, download=True)\n",
    "\n",
    "# Extract the images (X_train) and corresponding\n",
    "# labels (y_train) from the training dataset\n",
    "# Convert training images to NumPy array\n",
    "X_train = train_dataset.data.numpy()  \n",
    "\n",
    "# Convert training labels to NumPy array\n",
    "y_train = train_dataset.targets.numpy() \n",
    "\n",
    "# Load the MNIST testing dataset\n",
    "test_dataset = datasets.MNIST(root=path, train=False, download=True)\n",
    "\n",
    "# Extract the images (X_test) and corresponding\n",
    "# labels (y_test) from the testing dataset\n",
    "# Convert testing images to NumPy array\n",
    "X_test = test_dataset.data.numpy()  \n",
    "\n",
    "# Convert testing labels to NumPy array\n",
    "y_test = test_dataset.targets.numpy()  "
   ]
  },
  {
   "cell_type": "code",
   "execution_count": 21,
   "metadata": {
    "id": "E5tK3MeXN5v2"
   },
   "outputs": [],
   "source": [
    "def plot_mnist_sample_high_res(X_train, y_train):\n",
    "    \"\"\"\n",
    "    This function plots a sample image for each category (0-9).\n",
    "    The result is a figure with a 2x5 grid of images.\n",
    "\n",
    "    Inputs:\n",
    "    X_train: Array of training images (N, H, W)\n",
    "    y_train: Array of training labels (N,)\n",
    "    \"\"\"\n",
    "    # Create a dictionary to store one example image per label\n",
    "    label_to_image = {}\n",
    "    \n",
    "    for i, label in enumerate(y_train):\n",
    "        # Add the first occurrence of each\n",
    "        # label to the dictionary\n",
    "        if label not in label_to_image:\n",
    "            label_to_image[label] = X_train[i]\n",
    "        \n",
    "        # Stop once all labels (0-9)\n",
    "        # have been added\n",
    "        if len(label_to_image) == 10:\n",
    "            break\n",
    "    \n",
    "    # Create a 2x5 grid to display the images\n",
    "    fig, axes = plt.subplots(2, 5, figsize=(10, 5))\n",
    "    \n",
    "    for ax, (label, image) in zip(axes.flatten(), label_to_image.items()):\n",
    "        # Plot each image in grayscale\n",
    "        ax.imshow(image.squeeze(), cmap='gray')\n",
    "        \n",
    "        # Set the title for each subplot\n",
    "        # to indicate the label\n",
    "        ax.set_title(f\"Label: {label}\")\n",
    "        \n",
    "        # Hide the axes for a cleaner\n",
    "        # visualization\n",
    "        ax.axis('off')\n",
    "    \n",
    "    # Adjust layout to prevent \n",
    "    # overlapping of titles and images\n",
    "    plt.tight_layout()\n",
    "    \n",
    "    # Display the plot\n",
    "    plt.show()"
   ]
  },
  {
   "cell_type": "code",
   "execution_count": 22,
   "metadata": {
    "id": "BNCBDoFnN8B5"
   },
   "outputs": [
    {
     "data": {
      "image/png": "[encoded data removed]",
      "text/plain": [
       "<Figure size 1000x500 with 10 Axes>"
      ]
     },
     "metadata": {},
     "output_type": "display_data"
    }
   ],
   "source": [
    "# PLOT CODE: DO NOT CHANGE\n",
    "# This code is for you to plot the results.\n",
    "plot_mnist_sample_high_res(X_train, y_train)"
   ]
  },
  {
   "cell_type": "markdown",
   "metadata": {
    "id": "6Wu-weDbqEAY"
   },
   "source": [
    "### Ζήτημα 2.2:  Εκπαίδευση Νευρωνικού Δικτύου με PyTorch [5 μονάδες]\n",
    "Ακολουθεί ένα τμήμα βοηθητικού κώδικα για την εκπαίδευση των βαθιών νευρωνικών δικτύων (Deep Neural Networks - DNN).\n",
    "\n",
    "- Ολοκληρώστε τη συνάρτηση train_net() για το παρακάτω DNN.\n",
    "\n",
    "Θα πρέπει να συμπεριλάβετε τις λειτουργίες της διαδικασίας της εκπαίδευσης σε αυτή τη συνάρτηση. Αυτό σημαίνει ότι για μια παρτίδα/υποσύνολο δεδομένων (batch μεγέθους 50) πρέπει να αρχικοποιήσετε τις παραγώγους, να υλοποιήσετε τη διάδοση προς τα εμπρός της πληροφορίας (forward propagation), να υπολογίσετε το σφάλμα εκτίμησης, να κάνετε οπισθοδιάδοση της πληροφορίας (μετάδοση προς τα πίσω των παραγώγων σφάλματος ως προς τα βάρη - backward propagation), και τέλος, να ενημερώσετε τις παραμέτρους (weight update). Θα πρέπει να επιλέξετε μια κατάλληλη συνάρτηση απώλειας και βελτιστοποιητή (optimizer) από την βιβλιοθήκη PyTorch για αυτό το πρόβλημα.\n",
    "\n",
    "Αυτή η συνάρτηση θα χρησιμοποιηθεί στα επόμενα ζητήματα με διαφορετικά δίκτυα. Θα μπορείτε δηλαδή να χρησιμοποιήσετε τη μέθοδο `train_net` για να εκπαιδεύσετε το βαθύ νευρωνικό σας δίκτυο, εφόσον προσδιορίσετε τη συγκεκριμένη αρχιτεκτονική σας και εφαρμόσετε το `forward pass` σε μια υπο/κλάσση της DNN (βλ. παράδειγμα \"LinearClassifier(DNN)\").\n",
    "Μπορείτε να ανατρέξετε στη διεύθυνση https://pytorch.org/tutorials/beginner/pytorch_with_examples.html για περισσότερες πληροφορίες.\n",
    "Επίσης, ένα αρκετά χρήσιμο \"tutorial\" περιλαμβάνεται στο σημειωματάριο jupyter `(tutorial1_pytorch_introduction.ipynb)` στο φάκελο της αναρτημένης εργασίας στη σελίδα ecourse του μαθήματος.\n",
    "\n",
    "Στο τέλος, μπορείτε να χρησιμοποιήσετε την υφιστάμενη υλοποίηση από την 1η άσκηση για την αξιολόγηση της απόδοσης (`Confusion` και `VisualizeConfussion`)."
   ]
  },
  {
   "cell_type": "code",
   "execution_count": 23,
   "metadata": {
    "id": "Ky0FksEwqDta"
   },
   "outputs": [],
   "source": [
    "# Importing PyTorch initialization utilities\n",
    "import torch.nn.init  \n",
    "\n",
    "# Importing optimizers from PyTorch\n",
    "import torch.optim as optim  \n",
    "\n",
    "# Importing Variable for wrapping tensors for gradient computations\n",
    "from torch.autograd import Variable  \n",
    "\n",
    "# Importing Parameter class to define learnable parameters in models\n",
    "from torch.nn.parameter import Parameter\n",
    "\n",
    "# Importing tqdm for progress bar visualization\n",
    "from tqdm import tqdm  \n",
    "\n",
    "# Importing truncated normal distribution for parameter initialization\n",
    "from scipy.stats import truncnorm  \n",
    "\n",
    "\n",
    "class DNN(nn.Module):\n",
    "    \"\"\"\n",
    "    A basic Deep Neural Network (DNN) implementation.\n",
    "    \"\"\"\n",
    "    def __init__(self):\n",
    "        # Initializing the base nn.Module class\n",
    "        super(DNN, self).__init__()  \n",
    "        pass\n",
    "\n",
    "    def forward(self, x):\n",
    "        \"\"\"\n",
    "        Forward pass for the network.\n",
    "        To be implemented in subclasses.\n",
    "        \"\"\"\n",
    "        raise NotImplementedError\n",
    "\n",
    "    def train_net(self, X_train, y_train, epochs=1, batchSize=50):\n",
    "        \"\"\"\n",
    "        Train the DNN on the provided training data.\n",
    "\n",
    "        Inputs:\n",
    "        X_train: Training data samples (N, 28, 28)\n",
    "        y_train: Training labels (N,)\n",
    "        epochs: Number of epochs for training\n",
    "        batchSize: Size of each batch\n",
    "        \"\"\"\n",
    "        # Convert X_train and y_train to\n",
    "        # torch.Tensor if they are not already\n",
    "        if not isinstance(X_train, torch.Tensor):\n",
    "            X_train = torch.tensor(X_train, dtype=torch.float32)\n",
    "        if not isinstance(y_train, torch.Tensor):\n",
    "            y_train = torch.tensor(y_train, dtype=torch.long)\n",
    "\n",
    "        # Defining the loss criterion\n",
    "        criterion = torch.nn.CrossEntropyLoss()\n",
    "\n",
    "        # Create parameters if they do not exist\n",
    "        if not hasattr(self, 'weight1'):\n",
    "            self.weight1 = torch.nn.Parameter(torch.randn(10, 28 * 28, requires_grad=True))\n",
    "        if not hasattr(self, 'bias1'):\n",
    "            self.bias1 = torch.nn.Parameter(torch.randn(10, requires_grad=True))\n",
    "\n",
    "        # Ensure parameters are registered with the model\n",
    "        self.register_parameter('weight1', self.weight1)\n",
    "        self.register_parameter('bias1', self.bias1)\n",
    "\n",
    "        # Creating the optimizer for the parameters\n",
    "        optimizer = torch.optim.SGD([self.weight1, self.bias1], lr=0.01, momentum=0.9)\n",
    "\n",
    "        # Training loop for the specified number of epochs\n",
    "        for epoch in range(epochs):\n",
    "            # Shuffle the dataset indices\n",
    "            permutation = torch.randperm(X_train.size(0))\n",
    "\n",
    "            # Process data in batches\n",
    "            for i in range(0, X_train.size(0), batchSize):\n",
    "                indices = permutation[i:i + batchSize]\n",
    "                batch_X, batch_y = X_train[indices], y_train[indices]\n",
    "\n",
    "                # Convert batch_X and batch_y to torch.Tensor if not already\n",
    "                if not isinstance(batch_X, torch.Tensor):\n",
    "                    batch_X = torch.tensor(batch_X, dtype=torch.float32)\n",
    "                if not isinstance(batch_y, torch.Tensor):\n",
    "                    batch_y = torch.tensor(batch_y, dtype=torch.long)\n",
    "\n",
    "                # Flatten the images into vectors\n",
    "                batch_X = batch_X.view(-1, 28 * 28)\n",
    "                optimizer.zero_grad()\n",
    "\n",
    "                # Compute predictions\n",
    "                outputs = torch.addmm(self.bias1, batch_X, self.weight1.t())\n",
    "                loss = criterion(outputs, batch_y)\n",
    "\n",
    "                # Backpropagation and optimization step\n",
    "                loss.backward()\n",
    "                optimizer.step()\n",
    "\n",
    "            print(f\"Epoch [{epoch + 1}/{epochs}], Loss: {loss.item():.4f}\")\n",
    "\n",
    "    def __call__(self, x):\n",
    "        \"\"\"\n",
    "        Perform predictions on the given input data.\n",
    "\n",
    "        Inputs:\n",
    "        x: Input data samples (N, 28, 28)\n",
    "\n",
    "        Returns:\n",
    "        Predicted labels (N,)\n",
    "        \"\"\"\n",
    "        inputs = Variable(torch.FloatTensor(x))\n",
    "        prediction = self.forward(inputs)\n",
    "        return np.argmax(prediction.data.cpu().numpy(), 1)\n",
    "\n",
    "def weight_variable(shape):\n",
    "    \"\"\"\n",
    "    Initializes a weight variable using a truncated normal distribution.\n",
    "\n",
    "    Inputs:\n",
    "    shape: Shape of the weight tensor.\n",
    "\n",
    "    Returns:\n",
    "    Parameter: Learnable weight parameter.\n",
    "    \"\"\"\n",
    "    initial = torch.Tensor(truncnorm.rvs(-1/0.01, 1/0.01, scale=0.01, size=shape))\n",
    "    return Parameter(initial, requires_grad=True)\n",
    "\n",
    "def bias_variable(shape):\n",
    "    \"\"\"\n",
    "    Initializes a bias variable with a constant value.\n",
    "\n",
    "    Inputs:\n",
    "    shape: Shape of the bias tensor.\n",
    "\n",
    "    Returns:\n",
    "    Parameter: Learnable bias parameter.\n",
    "    \"\"\"\n",
    "    initial = torch.Tensor(np.ones(shape) * 0.1)\n",
    "    return Parameter(initial, requires_grad=True)"
   ]
  },
  {
   "cell_type": "code",
   "execution_count": 24,
   "metadata": {
    "id": "2HYVuzbtosJo"
   },
   "outputs": [],
   "source": [
    "class LinearClassifier(DNN):\n",
    "    \"\"\"\n",
    "    A linear classifier that extends the DNN class.\n",
    "    This model performs a linear transformation followed by prediction.\n",
    "    \"\"\"\n",
    "    def __init__(self, in_features=28*28, classes=10):\n",
    "        \"\"\"\n",
    "        Initializes the Linear Classifier.\n",
    "\n",
    "        Inputs:\n",
    "        in_features: Number of input features (default: 28*28 for MNIST images).\n",
    "        classes: Number of output classes (default: 10 for MNIST digits).\n",
    "        \"\"\"\n",
    "        # Initialize the base DNN class\n",
    "        super(LinearClassifier, self).__init__()  \n",
    "\n",
    "        # Define model parameters for weights\n",
    "        # and biases. Initialize weights\n",
    "        self.weight1 = weight_variable((classes, in_features))  \n",
    "        \n",
    "        # Initialize biases\n",
    "        self.bias1 = bias_variable((classes))  \n",
    "\n",
    "        # Register the parameters with the model\n",
    "        # to ensure they are learnable\n",
    "        self.register_parameter('weight1', self.weight1)\n",
    "        self.register_parameter('bias1', self.bias1)\n",
    "\n",
    "    def forward(self, x):\n",
    "        \"\"\"\n",
    "        Performs the forward pass for the linear classifier.\n",
    "\n",
    "        Inputs:\n",
    "        x: Input tensor (N, 28, 28)\n",
    "\n",
    "        Returns:\n",
    "        y_pred: Predicted logits for each class (N, classes)\n",
    "        \"\"\"\n",
    "        # Perform a linear transformation: y = xW^T + b\n",
    "        y_pred = torch.addmm(self.bias1, x.view(list(x.size())[0], -1), self.weight1.t())\n",
    "        return y_pred\n",
    "\n",
    "\n",
    "# X_train=np.float32(np.expand_dims(X_train,-1))/255\n",
    "# X_train=X_train.transpose((0,3,1,2))\n",
    "\n",
    "# X_test=np.float32(np.expand_dims(X_test,-1))/255\n",
    "# X_test=X_test.transpose((0,3,1,2))\n",
    "\n",
    "# In case abovementioned 4 lines return error: Modify the lines for transposing X_train\n",
    "# and X_test by uncommenting the following 4 lines and place the 4 lines above in comments\n",
    "X_train = np.float32(X_train) / 255.0\n",
    "X_train = X_train.reshape(-1, 1, 28, 28)\n",
    "\n",
    "X_test = np.float32(X_test) / 255.0\n",
    "X_test = X_test.reshape(-1, 1, 28, 28)"
   ]
  },
  {
   "cell_type": "code",
   "execution_count": 25,
   "metadata": {
    "id": "J-UGSj6FqRKf"
   },
   "outputs": [
    {
     "name": "stdout",
     "output_type": "stream",
     "text": [
      "Epoch [1/10], Loss: 0.2634\n",
      "Epoch [2/10], Loss: 0.3290\n",
      "Epoch [3/10], Loss: 0.1040\n",
      "Epoch [4/10], Loss: 0.3135\n",
      "Epoch [5/10], Loss: 0.1860\n",
      "Epoch [6/10], Loss: 0.2961\n",
      "Epoch [7/10], Loss: 0.4980\n",
      "Epoch [8/10], Loss: 0.2287\n",
      "Epoch [9/10], Loss: 0.1373\n",
      "Epoch [10/10], Loss: 0.3640\n",
      "Linear classifier accuracy: 92.260000\n"
     ]
    }
   ],
   "source": [
    "# test the example linear classifier (note you should get around 90% accuracy\n",
    "# for 10 epochs and batchsize 50)\n",
    "linearClassifier = LinearClassifier()\n",
    "linearClassifier.train_net(X_train, y_train, epochs=10)\n",
    "print('Linear classifier accuracy: %f' % test(X_test, y_test, linearClassifier))"
   ]
  },
  {
   "cell_type": "code",
   "execution_count": 26,
   "metadata": {
    "id": "8RA5688oyNTu"
   },
   "outputs": [
    {
     "data": {
      "image/png": "[encoded data removed]",
      "text/plain": [
       "<Figure size 1000x700 with 2 Axes>"
      ]
     },
     "metadata": {},
     "output_type": "display_data"
    }
   ],
   "source": [
    "# Importing confusion matrix computation\n",
    "# utility from scikit-learn\n",
    "from sklearn.metrics import confusion_matrix\n",
    "\n",
    "# Importing for visualization\n",
    "import matplotlib.pyplot as plt  \n",
    "\n",
    "\n",
    "# Predicting labels for the test dataset\n",
    "# using the linear classifier\n",
    "y_pred = linearClassifier(X_test)\n",
    "\n",
    "# Computing the confusion matrix by comparing\n",
    "# true and predicted labels\n",
    "conf_matrix = confusion_matrix(y_test, y_pred)\n",
    "\n",
    "# Plotting the confusion matrix\n",
    "# Setting figure size\n",
    "plt.figure(figsize=(10, 7))  \n",
    "\n",
    "# Displaying the confusion matrix \n",
    "# with a color map\n",
    "plt.imshow(conf_matrix, interpolation='nearest', cmap='Blues')  \n",
    "\n",
    "# Adding a color bar to indicate scale\n",
    "plt.colorbar()  \n",
    "\n",
    "# Setting x-axis and y-axis ticks to\n",
    "# represent class labels. Predicted labels\n",
    "# on the x-axis\n",
    "plt.xticks(range(len(conf_matrix)), labels=range(len(conf_matrix)))  \n",
    "\n",
    "# True labels on the y-axis\n",
    "plt.yticks(range(len(conf_matrix)), labels=range(len(conf_matrix)))  \n",
    "\n",
    "# Adding axis labels and a title\n",
    "# for the confusion matrix\n",
    "plt.xlabel(\"Predicted\")\n",
    "plt.ylabel(\"True\")\n",
    "plt.title(\"Confusion Matrix\")\n",
    "\n",
    "# Displaying the confusion\n",
    "# matrix plot\n",
    "plt.show()"
   ]
  },
  {
   "cell_type": "markdown",
   "metadata": {
    "id": "mNzcCiLr0AU8"
   },
   "source": [
    "### Ζήτημα 2.3: Οπτικοποίηση Βαρών (Visualizing Weights of Single Layer Perceptron) [3 μονάδες]\n",
    "Αυτός ο απλός γραμμικός ταξινομητής που υλοποιείται στο παραπάνω κελί (το μοντέλο απλά επιστρέφει ένα γραμμικό συνδυασμό της εισόδου) παρουσιάζει ήδη αρκετά καλά αποτελέσματα.\n",
    "\n",
    "- Σχεδιάστε τα βάρη του φίλτρου που αντιστοιχούν σε κάθε κατηγορία εξόδου (τα **βάρη**/weights, όχι τους όρους *bias*) ως εικόνες. Κανονικοποιήστε τα βάρη ώστε να βρίσκονται μεταξύ 0 και 1 ( $z_i = \\frac{w_i - min(w)}{max(w) – min(w)}$ ). Χρησιμοποιήστε έγχρωμους χάρτες όπως \"inferno\" ή \"plasma\" για καλά αποτελέσματα (π.χ. cmap='inferno', ως όρισμα της imshow()).\n",
    "\n",
    "- Σχολιάστε με τι μοιάζουν τα βάρη και γιατί μπορεί να συμβαίνει αυτό.\n"
   ]
  },
  {
   "cell_type": "code",
   "execution_count": 27,
   "metadata": {
    "id": "Q8S3dYZgzzT_"
   },
   "outputs": [
    {
     "data": {
      "image/png": "[encoded data removed]",
      "text/plain": [
       "<Figure size 1000x500 with 10 Axes>"
      ]
     },
     "metadata": {},
     "output_type": "display_data"
    }
   ],
   "source": [
    "# Extract filter weights corresponding to each class\n",
    "# from the first layer of the LinearClassifier. Convert\n",
    "# weights to NumPy array\n",
    "weights = linearClassifier.weight1.data.cpu().numpy()\n",
    "\n",
    "# Determine the number of\n",
    "# classes (rows of the weight matrix)\n",
    "num_classes = weights.shape[0]  \n",
    "\n",
    "# Create a figure for displaying\n",
    "# the filter weights\n",
    "plt.figure(figsize=(10, 5))\n",
    "\n",
    "# Loop through each class and\n",
    "# plot the corresponding filter weights\n",
    "for i in range(num_classes):\n",
    "    # Reshape the weights for the\n",
    "    # current class to match image\n",
    "    # dimensions (28x28)\n",
    "    w = weights[i].reshape(28, 28)\n",
    "    \n",
    "    # Normalize the weights to a\n",
    "    # range of [0, 1] for better\n",
    "    # visualization\n",
    "    w_norm = (w - w.min()) / (w.max() - w.min())\n",
    "    \n",
    "    # Create a subplot for the\n",
    "    # current class filter\n",
    "    plt.subplot(2, 5, i + 1)\n",
    "    \n",
    "    # Display the normalized weights\n",
    "    # as an image using the 'inferno' colormap\n",
    "    plt.imshow(w_norm, cmap='inferno')\n",
    "    \n",
    "    # Set the title of the subplot\n",
    "    # to indicate the class\n",
    "    plt.title(f\"Class {i}\")\n",
    "    \n",
    "    # Hide the axes for a\n",
    "    # cleaner visualization\n",
    "    plt.axis('off')\n",
    "\n",
    "# Adjust layout to prevent\n",
    "# overlapping of titles and images\n",
    "plt.tight_layout()\n",
    "\n",
    "# Display the filter\n",
    "# weight plots\n",
    "plt.show()"
   ]
  },
  {
   "cell_type": "markdown",
   "metadata": {
    "id": "zmQUOBNg0PkW"
   },
   "source": [
    "#### Σχολιασμός των βαρών\n",
    "Τα βάρη αποκαλύπτουν τα χαρακτηριστικά που το μοντέλο χρησιμοποιεί για να αναγνωρίσει κάθε κατηγορία. Για παράδειγμα, στην κατηγορία \"0\" εμφανίζεται ένας κύκλος, ενώ στην \"1\" φαίνεται μια ευθεία γραμμή. Αυτά τα μοτίβα δείχνουν πώς το μοντέλο διακρίνει τα ψηφία μεταξύ τους."
   ]
  },
  {
   "cell_type": "markdown",
   "metadata": {
    "id": "gJBWgsBE0S7K"
   },
   "source": [
    "### Ζήτημα 2.4: Νευρωνικό δίκτυο πολλαπλών επιπέδων - Multi Layer Perceptron (MLP) [6 μονάδες]\n",
    "Θα υλοποιήσετε ένα MLP νευρωνικό δίκτυο. Το MLP θα πρέπει να αποτελείται από 2 επίπεδα (πολλαπλασιασμός βάρους και μετατόπιση μεροληψίας/bias - γραμμικός συνδυασμός εισόδου) που απεικονίζονται (map) στις ακόλουθες διαστάσεις χαρακτηριστικών:\n",
    "\n",
    "* 28x28 -> hidden (50)\n",
    "* hidden (50) -> classes\n",
    "\n",
    "* Το κρυμμένο επίπεδο πρέπει να ακολουθείται από μια μη γραμμική συνάρτηση ενεργοποίησης ReLU. Το τελευταίο επίπεδο δεν θα πρέπει να έχει εφαρμογή μη γραμμικής απεικόνισης καθώς επιθυμούμε την έξοδο ακατέργαστων 'logits' (στη μηχανική μάθηση, τα logits είναι οι τιμές που παράγονται από το τελικό επίπεδο ενός μοντέλου πριν περάσουν από μια συνάρτηση ενεργοποίησης softmax. Αντιπροσωπεύουν τις προβλέψεις του μοντέλου για κάθε κατηγορία χωρίς να μετατρέπονται σε πιθανότητες).\n",
    "* Η τελική έξοδος του υπολογιστικού γράφου (μοντέλου) θα πρέπει να αποθηκευτεί στο self.y καθώς θα χρησιμοποιηθεί στην εκπαίδευση.\n",
    "* Θα πρέπει να χρησιμοποιήσετε τις helper ρουτίνες `weight_variable` και `bias_variable` στην υλοποίησή σας.\n",
    "\n",
    "**Εμφανίστε τον πίνακα σύγχυσης** (confusion matrix - υλοποίηση 1ης άσκησης) και την ακρίβεια (accuracy) μετά την εκπαίδευση. Σημείωση: Θα πρέπει να έχετε ~95-97% ακρίβεια για 10 εποχές (epochs) και μέγεθος παρτίδας (batch size) 50.\n",
    "\n",
    "**Απεικονίστε τα βάρη** του φίλτρου που αντιστοιχούν στην αντιστοίχιση από τις εισόδους στις πρώτες 10 εξόδους του κρυμμένου επιπέδου (από τις 50 συνολικά). Μοιάζουν τα βάρη αυτά καθόλου με τα βάρη που απεικονίστηκαν στο προηγούμενο ζήτημα; Γιατί ή γιατί όχι?\n",
    "\n",
    "Αναμένεται ότι το μοντέλο εκπαίδευσης θα διαρκέσει από 1 έως μερικά λεπτά για να τρέξει, ανάλογα με τις δυνατότητες της CPU."
   ]
  },
  {
   "cell_type": "code",
   "execution_count": 28,
   "metadata": {
    "id": "Ss2lUgpL0JRh"
   },
   "outputs": [
    {
     "name": "stdout",
     "output_type": "stream",
     "text": [
      "Epoch [1/10], Loss: 0.7019\n",
      "Epoch [2/10], Loss: 0.9392\n",
      "Epoch [3/10], Loss: 0.7718\n",
      "Epoch [4/10], Loss: 0.6448\n",
      "Epoch [5/10], Loss: 0.5037\n",
      "Epoch [6/10], Loss: 0.5770\n",
      "Epoch [7/10], Loss: 0.1281\n",
      "Epoch [8/10], Loss: 0.3173\n",
      "Epoch [9/10], Loss: 0.3698\n",
      "Epoch [10/10], Loss: 0.1709\n"
     ]
    }
   ],
   "source": [
    "class MLPClassifer(DNN):\n",
    "    \"\"\"\n",
    "    A Multi-Layer Perceptron (MLP) classifier that extends the DNN class.\n",
    "    This model consists of an input layer, one hidden layer, and an output layer.\n",
    "    \"\"\"\n",
    "    def __init__(self, in_features=28*28, classes=10, hidden=50):\n",
    "        \"\"\"\n",
    "        Initializes the MLP Classifier.\n",
    "\n",
    "        Inputs:\n",
    "        in_features: Number of input features (default: 28*28 for MNIST images).\n",
    "        classes: Number of output classes (default: 10 for MNIST digits).\n",
    "        hidden: Number of hidden units in the hidden layer (default: 50).\n",
    "        \"\"\"\n",
    "        # Initialize the base DNN class\n",
    "        super(MLPClassifer, self).__init__()  \n",
    "\n",
    "        # Define model parameters for the\n",
    "        # input-to-hidden layer. Weights\n",
    "        # for the hidden layer\n",
    "        self.MLPweight1 = weight_variable((hidden, in_features))  \n",
    "\n",
    "        # Biases for the hidden layer\n",
    "        self.MLPbias1 = bias_variable((hidden))  \n",
    "\n",
    "        # Define model parameters for the\n",
    "        # hidden-to-output layer. Weights\n",
    "        # for the output layer\n",
    "        self.MLPweight2 = weight_variable((classes, hidden))\n",
    "\n",
    "        # Biases for the output layer\n",
    "        self.MLPbias2 = bias_variable((classes))  \n",
    "\n",
    "    def forward(self, x):\n",
    "        \"\"\"\n",
    "        Performs the forward pass for the MLP Classifier.\n",
    "\n",
    "        Inputs:\n",
    "        x: Input tensor (N, 28, 28)\n",
    "\n",
    "        Returns:\n",
    "        y_pred: Predicted logits for each class (N, classes)\n",
    "        \"\"\"\n",
    "        # Flatten the input tensor to a\n",
    "        # 2D array (batch size, features)\n",
    "        x_flat = x.view(x.size(0), -1)\n",
    "\n",
    "        # Compute the hidden layer activations\n",
    "        # using ReLU activation function\n",
    "        hidden_output = torch.relu(torch.addmm(self.MLPbias1, x_flat, self.MLPweight1.t()))\n",
    "\n",
    "        # Compute the output layer (logits)\n",
    "        # from the hidden layer\n",
    "        y_pred = torch.addmm(self.MLPbias2, hidden_output, self.MLPweight2.t())\n",
    "\n",
    "        return y_pred\n",
    "\n",
    "\n",
    "# Initialize the MLP classifier\n",
    "mlpClassifer = MLPClassifer()\n",
    "\n",
    "# Train the MLP classifier\n",
    "# using the training dataset\n",
    "mlpClassifer.train_net(X_train, y_train, epochs=10, batchSize=50)"
   ]
  },
  {
   "cell_type": "code",
   "execution_count": 29,
   "metadata": {
    "id": "R-4xraHl0muj"
   },
   "outputs": [
    {
     "name": "stderr",
     "output_type": "stream",
     "text": [
      "100%|███████████████████████████████████████| 200/200 [00:00<00:00, 2001.06it/s]"
     ]
    },
    {
     "name": "stdout",
     "output_type": "stream",
     "text": [
      "Confusion matrix - MLP classifier accuracy: 10.750000\n",
      "MLP classifier accuracy: 10.750000\n"
     ]
    },
    {
     "name": "stderr",
     "output_type": "stream",
     "text": [
      "\n"
     ]
    },
    {
     "data": {
      "image/png": "[encoded data removed]",
      "text/plain": [
       "<Figure size 1400x600 with 1 Axes>"
      ]
     },
     "metadata": {},
     "output_type": "display_data"
    },
    {
     "name": "stdout",
     "output_type": "stream",
     "text": [
      "[[  0.  10.   0.  24. 528.   0. 349.   0.   0.  69.]\n",
      " [  0.   0.   0.   9.  91.   2. 979.   0.   0.  54.]\n",
      " [  0.   7.   0.  22. 634.   9. 323.   0.   0.  37.]\n",
      " [  0.   0.   0.  47. 519.   3. 426.   0.   0.  15.]\n",
      " [  0.  33.   0.   4. 563.   1. 374.   0.   0.   7.]\n",
      " [  0.   5.   0.   7. 324.   4. 541.   0.   1.  10.]\n",
      " [  0.  59.   0.   6. 427.   3. 458.   0.   0.   5.]\n",
      " [  0.  15.   0.   5. 243.  26. 735.   0.   0.   4.]\n",
      " [  0.  12.   0.   8. 403.   0. 534.   0.   0.  17.]\n",
      " [  0.  13.   0.   1. 245.   1. 746.   0.   0.   3.]]\n"
     ]
    }
   ],
   "source": [
    "# Compute the confusion matrix and\n",
    "# accuracy for the MLP classifier on\n",
    "# the test dataset\n",
    "M_mlp, acc_mlp = Confusion(X_test, y_test, mlpClassifer)\n",
    "\n",
    "# Print the confusion matrix accuracy\n",
    "# for the MLP classifier\n",
    "print('Confusion matrix - MLP classifier accuracy: %f' % acc_mlp)\n",
    "\n",
    "# Print the overall test accuracy\n",
    "# of the MLP classifier using the\n",
    "# test function\n",
    "print('MLP classifier accuracy: %f' % test(X_test, y_test, mlpClassifer))\n",
    "\n",
    "# Visualize the confusion\n",
    "# matrix for the MLP classifier\n",
    "VisualizeConfussion(M_mlp)\n",
    "\n",
    "# =====================================================================================================================================\n",
    "# ATTENTION MR.GIOTIS\n",
    "# Παρόλο που το loss είναι χαμηλό, το accuracy παραμένει χαμηλό, κάτι που υποδηλώνει ότι το μοντέλο δεν καταφέρνει να γενικεύσει σωστά.\n",
    "# Αυτό μπορεί να σχετίζεται με προβλήματα στην προεπεξεργασία των δεδομένων, ακατάλληλη αρχικοποίηση των βαρών ή ακόμα και με την ίδια\n",
    "# την αρχιτεκτονική του μοντέλου, η οποία ενδεχομένως να μην υποστηρίζει αποτελεσματική εκμάθηση. \n",
    "# ====================================================================================================================================="
   ]
  },
  {
   "cell_type": "code",
   "execution_count": 30,
   "metadata": {
    "id": "FLD0yjHH0bVU"
   },
   "outputs": [
    {
     "data": {
      "image/png": "[encoded data removed]",
      "text/plain": [
       "<Figure size 1000x500 with 10 Axes>"
      ]
     },
     "metadata": {},
     "output_type": "display_data"
    }
   ],
   "source": [
    "# Extract the weights from the first\n",
    "# layer of the MLP classifier. Ensure\n",
    "# \"MLPweight1\" matches the attribute name\n",
    "# in your class\n",
    "weights = mlpClassifer.MLPweight1.data.cpu().numpy()  \n",
    "\n",
    "# Create a figure to display the filters\n",
    "# Adjust the figure size\n",
    "plt.figure(figsize=(10, 5))  \n",
    "\n",
    "# Iterate through the first 10 outputs\n",
    "# of the hidden layer\n",
    "for i in range(10):\n",
    "    # Reshape the weights corresponding\n",
    "    # to the i-th output to 28x28 for\n",
    "    # visualization\n",
    "    w = weights[i].reshape(28, 28)\n",
    "    \n",
    "    # Normalize the weights to the range\n",
    "    # [0, 1] for better display contrast\n",
    "    w_norm = (w - w.min()) / (w.max() - w.min())\n",
    "    \n",
    "    # Determine the position of\n",
    "    # the filter in the grid\n",
    "    plt.subplot(2, 5, i + 1)\n",
    "    \n",
    "    # Display the normalized filter\n",
    "    # using the \"inferno\" colormap\n",
    "    plt.imshow(w_norm, cmap='inferno')\n",
    "    \n",
    "    # Disable axes for a cleaner look\n",
    "    plt.axis('off')\n",
    "\n",
    "# Adjust the layout to\n",
    "# prevent overlapping of subplots\n",
    "plt.tight_layout()\n",
    "\n",
    "# Display the figure\n",
    "# showing the filters\n",
    "plt.show()"
   ]
  },
  {
   "cell_type": "markdown",
   "metadata": {
    "id": "tBC6s9qQ1KKj"
   },
   "source": [
    "### Ζήτημα 2.5: Συνελικτικό Νευρωνικό Δίκτυο - Convolutional Neural Network (CNN) [`bonus`  5 μονάδες]\n",
    "Εδώ θα υλοποιήσετε ένα CNN με την ακόλουθη αρχιτεκτονική:\n",
    "\n",
    "* n=10 (output features or filters)\n",
    "* ReLU( Conv(kernel_size=5x5, stride=2, output_features=n) )\n",
    "* ReLU( Conv(kernel_size=5x5, stride=2, output_features=n*2) )\n",
    "* ReLU( Linear(hidden units = 64) )\n",
    "* Linear(output_features=classes)\n",
    "\n",
    "Δηλαδή, 2 συνελικτικά επίπεδα (Conv Layers) όπου απεικονίζουν μη-γραμμικά (ReLU) την είσοδο του προηγούμενου επιπέδου, ακολουθούμενα από 1 πλήρως συνδεδεμένο κρυμμένο επίπεδο (FC hidden layer) με μη γραμμική ενεργοποίηση (ReLU) και μετά το επίπεδο εξόδου (output layer) όπου συνδυάζει γραμμικά τις τιμές του προηγούμενου επιπέδου.\n",
    "\n",
    "Εμφανίστε τον πίνακα σύγχυσης και την ακρίβεια μετά την εκπαίδευση. Θα πρέπει να έχετε περίπου ~98% ακρίβεια για 10 εποχές και μέγεθος παρτίδας 50.<br><br>\n",
    "\n",
    "**Σημείωση: Δεν επιτρέπεται να χρησιμοποιείτε τις torch.nn.Conv2d() και torch.nn.Linear(). Η χρήση αυτών θα οδηγήσει σε αφαίρεση μονάδων. Χρησιμοποιήστε τις δηλωμένες συναρτήσεις conv2d(), weight_variable() και bias_variable().** Ωστόσο στην πράξη, όταν προχωρήσετε μετά από αυτό το μάθημα, θα χρησιμοποιήσετε torch.nn.Conv2d() που κάνει τη ζωή πιο εύκολη και αποκρύπτει όλες τις υποφαινόμενες λειτουργίες.\n",
    "\n",
    "**Μην** ξεχάσετε να σχολιάσετε τον κώδικά σας όπου χρειάζεται (π.χ. στον τρόπο υπολογισμού των διαστάσεων της εξόδου σε κάθε επίπεδο)."
   ]
  },
  {
   "cell_type": "code",
   "execution_count": 31,
   "metadata": {
    "id": "-OhmF0NM1Clj"
   },
   "outputs": [
    {
     "name": "stdout",
     "output_type": "stream",
     "text": [
      "Epoch [1/10], Loss: 1.2357\n",
      "Epoch [2/10], Loss: 0.5522\n",
      "Epoch [3/10], Loss: 0.6678\n",
      "Epoch [4/10], Loss: 1.2995\n",
      "Epoch [5/10], Loss: 0.1313\n",
      "Epoch [6/10], Loss: 0.4781\n",
      "Epoch [7/10], Loss: 0.1774\n",
      "Epoch [8/10], Loss: 0.4263\n",
      "Epoch [9/10], Loss: 0.2711\n",
      "Epoch [10/10], Loss: 0.2094\n"
     ]
    }
   ],
   "source": [
    "def conv2d(x, W, stride, bias=None):\n",
    "    # x: input\n",
    "    # W: weights (out, in, kH, kW)\n",
    "    return F.conv2d(x, W, bias, stride=stride, padding=2)\n",
    "\n",
    "# Defining a Convolutional Neural Network\n",
    "class CNNClassifer(DNN):\n",
    "    def __init__(self, classes=10, n=10):\n",
    "        super(CNNClassifer, self).__init__()\n",
    "        # Conv1: Conv(kernel_size=5x5, stride=2, output_features=n)\n",
    "        # n filters, 1 input channel, kernel 5x5\n",
    "        self.W1 = weight_variable((n, 1, 5, 5))\n",
    "\n",
    "        # Bias for n filters\n",
    "        self.b1 = bias_variable((n,))  \n",
    "\n",
    "        # Conv2: Conv(kernel_size=5x5, stride=2, output_features=n*2)\n",
    "        # n*2 filters, n input channels, kernel 5x5\n",
    "        self.W2 = weight_variable((n * 2, n, 5, 5))  \n",
    "\n",
    "        # Bias for n*2 filters\n",
    "        self.b2 = bias_variable((n * 2,))  \n",
    "\n",
    "        # FC1: Linear(hidden units = 64)\n",
    "        # Fully connected weights\n",
    "        self.W_fc1 = weight_variable((64, n * 2 * 7 * 7))  \n",
    "\n",
    "        # Bias for 64 hidden units\n",
    "        self.b_fc1 = bias_variable((64,))  \n",
    "\n",
    "        # FC2: Linear(output_features=classes)\n",
    "        # Fully connected output weights\n",
    "        self.W_fc2 = weight_variable((classes, 64))  \n",
    "\n",
    "        # Bias for output classes \n",
    "        self.b_fc2 = bias_variable((classes,))     \n",
    "        \n",
    "    def forward(self, x):\n",
    "        # Conv1: Apply convolution, add bias, and ReLU activation\n",
    "        # Output dims: (batch_size, n, 14, 14)\n",
    "        x = conv2d(x, self.W1, stride=2, bias=self.b1)  \n",
    "        x = torch.relu(x)\n",
    "\n",
    "        # Conv2: Apply convolution, add bias, and ReLU activation\n",
    "        # Output dims: (batch_size, n*2, 7, 7)\n",
    "        x = conv2d(x, self.W2, stride=2, bias=self.b2)  \n",
    "        x = torch.relu(x)\n",
    "\n",
    "        # Flatten the output for the fully connected layers\n",
    "        # Output dims: (batch_size, n*2*7*7)\n",
    "        x = x.view(x.size(0), -1)  \n",
    "\n",
    "        # FC1: Apply linear transformation and ReLU activation\n",
    "        # Output dims: (batch_size, 64)\n",
    "        x = torch.addmm(self.b_fc1, x, self.W_fc1.t())  \n",
    "        x = torch.relu(x)\n",
    "\n",
    "        # FC2: Apply linear transformation for logits\n",
    "        # Output dims: (batch_size, classes)\n",
    "        y = torch.addmm(self.b_fc2, x, self.W_fc2.t())  \n",
    "        \n",
    "        return y\n",
    "\n",
    "        \n",
    "cnnClassifer = CNNClassifer()\n",
    "cnnClassifer.train_net(X_train, y_train, epochs=10, batchSize=50)"
   ]
  },
  {
   "cell_type": "code",
   "execution_count": 32,
   "metadata": {
    "id": "SWkNhBgf1Sf3"
   },
   "outputs": [
    {
     "name": "stdout",
     "output_type": "stream",
     "text": [
      "Confusion matrix - MLP classifier accuracy: 0.097400\n",
      "MLP classifier accuracy: 9.740000\n"
     ]
    },
    {
     "data": {
      "image/png": "[encoded data removed]",
      "text/plain": [
       "<Figure size 1400x600 with 1 Axes>"
      ]
     },
     "metadata": {},
     "output_type": "display_data"
    },
    {
     "name": "stdout",
     "output_type": "stream",
     "text": [
      "[[   0    0    0    0    0    0    0    0  980    0]\n",
      " [   0    0    0    0    0    0    0    0 1135    0]\n",
      " [   0    0    0    0    0    0    0    0 1032    0]\n",
      " [   0    0    0    0    0    0    0    0 1010    0]\n",
      " [   0    0    0    0    0    0    0    0  982    0]\n",
      " [   0    0    0    0    0    0    0    0  892    0]\n",
      " [   0    0    0    0    0    0    0    0  958    0]\n",
      " [   0    0    0    0    0    0    0    0 1028    0]\n",
      " [   0    0    0    0    0    0    0    0  974    0]\n",
      " [   0    0    0    0    0    0    0    0 1009    0]]\n"
     ]
    }
   ],
   "source": [
    "# Plot confusion matrix and print the\n",
    "# test accuracy of the classifier. Calculate\n",
    "# the predictions for the test set\n",
    "y_pred = cnnClassifer(X_test)\n",
    "\n",
    "# Compute the confusion matrix\n",
    "from sklearn.metrics import confusion_matrix\n",
    "M_cnn = confusion_matrix(y_test, y_pred)\n",
    "\n",
    "# Compute the accuracy\n",
    "acc_cnn = np.trace(M_cnn) / np.sum(M_cnn)\n",
    "\n",
    "print ('Confusion matrix - MLP classifier accuracy: %f'%acc_cnn)\n",
    "\n",
    "# Check also standard accucary of test() for consistency\n",
    "print ('MLP classifier accuracy: %f'%test(X_test, y_test, cnnClassifer))\n",
    "\n",
    "VisualizeConfussion(M_cnn)"
   ]
  },
  {
   "cell_type": "markdown",
   "metadata": {
    "id": "nHx9gSiK1xVp"
   },
   "source": [
    "* Σημειώστε ότι οι προσεγγίσεις MLP/ConvNet οδηγούν σε λίγο μεγαλύτερη ακρίβεια ταξινόμησης από την προσέγγιση K-NN. \n",
    "* Στη γενική περίπτωση, οι προσεγγίσεις Νευρωνικών Δικτύων οδηγούν σε σημαντική αύξηση της ακρίβειας, αλλά, σε αυτή την περίπτωση, εφόσον το πρόβλημα δεν είναι ιδιαίτερα δύσκολο, η αύξηση της ακρίβειας δεν είναι και τόσο υψηλή.\n",
    "* Ωστόσο, αυτό εξακολουθεί να είναι αρκετά σημαντικό, δεδομένου του γεγονότος ότι τα ConvNets που χρησιμοποιήσαμε είναι σχετικά απλά, ενώ η ακρίβεια που επιτυγχάνεται χρησιμοποιώντας το K-NN είναι αποτέλεσμα αναζήτησης σε πάνω από 60.000 εικόνες εκπαίδευσης για κάθε εικόνα ελέγχου.\n",
    "* Συνιστάται ιδιαίτερα να αναζητήσετε περισσότερα για τα νευρωνικά δίκτυα/PyTorch στη διεύθυνση<br> https://pytorch.org/tutorials/beginner/deep_learning_60min_blitz.html καθώς και στο σχετικό tutorial στην αναρτημένη εργασία στη σελίδα ecourse του μαθήματος **tutorial1_pytorch_introduction.ipynb**.\n",
    "\n",
    "\n",
    "\n",
    "## Οδηγίες υποβολής\n",
    "\n",
    "Μην ξεχάσετε να κάνετε turnin το αρχείο Jupyter notebook **και** το PDF αρχείο αυτού του notebook μαζί με το συνοδευτικό αρχείο `onoma.txt`:\n",
    "**turnin  assignment@mye046 onoma.txt assignment.ipynb assignment.pdf**\n",
    "\n",
    "Βεβαιωθείτε ότι το περιεχόμενο σε **κάθε κελί εμφανίζεται** καθαρά στο τελικό σας αρχείο PDF.\n",
    "Για να μετατρέψετε το σημειωματάριο σε PDF, μπορείτε να επιλέξετε **έναν** από τους παρακάτω τρόπους:\n",
    "\n",
    "1. Google Colab (Συνιστάται): You can `print` the web page and save as PDF (e.g. Chrome: Right click the web page $\\rightarrow$ Print... $\\rightarrow$ Choose \"Destination: Save as PDF\" and click \"Save\"). Προσοχή στην περίπτωση όπου κώδικας/σχόλια εμφανίζονται εκτός των ορίων της σελίδας. Μια λύση είναι η αλλαγή γραμμής π.χ. σε σχόλια που υπερβαίνουν το πλάτος της σελίδας.\n",
    "* Στην περίπτωση που οι εικόνες εξόδου δεν εμφανίζονται σωστά, μια λύση μέσω colab είναι (εργαλείο nbconvert):\n",
    "   * Ανέβασμα του αρχείου `assignment.ipynb` στο home directory του Colaboratory (ο κατάλογος home είναι: /content/).\n",
    "   * Εκτελέστε σε ένα κελί colab ενός νέου notebook: `!jupyter nbconvert --to html /content/assignment.ipynb`\n",
    "   * Κάνετε λήψη του assignment.html τοπικά στον υπολογιστή σας και ανοίξτε το αρχείο μέσω browser ώστε να το εξάγετε ως PDF.\n",
    "\n",
    "2. Local Jupyter/JupyterLab(Συνιστάται): You can `print` the web page and save as PDF (File $\\rightarrow$ Print... $\\rightarrow$ Choose \"Destination: Save as PDF\" and click \"Save\"). Προσοχή στην περίπτωση όπου κώδικας/σχόλια εμφανίζονται εκτός των ορίων της σελίδας. Μια λύση είναι η αλλαγή γραμμής π.χ. σε σχόλια που υπερβαίνουν το πλάτος της σελίδας.\n",
    "\n",
    "3. Local Jupyter/JupyterLab(**Συνιστάται!**): You can `export` and save as HTML (File $\\rightarrow$ Save & Export Notebook as... $\\rightarrow$ HTML). Στη συνέχεια μπορείτε να μετατρέψετε το HTML αρχείο αποθηκεύοντάς το ως PDF μέσω ενός browser."
   ]
  },
  {
   "cell_type": "code",
   "execution_count": null,
   "metadata": {},
   "outputs": [],
   "source": []
  }
 ],
 "metadata": {
  "anaconda-cloud": {},
  "colab": {
   "collapsed_sections": [
    "jZQQIiKPnRQF",
    "aYf3GsdmpfvS",
    "6Wu-weDbqEAY",
    "mNzcCiLr0AU8",
    "zmQUOBNg0PkW",
    "7pCLEVJ_1F66"
   ],
   "provenance": []
  },
  "hide_input": false,
  "kernelspec": {
   "display_name": "Python 3 (ipykernel)",
   "language": "python",
   "name": "python3"
  },
  "language_info": {
   "codemirror_mode": {
    "name": "ipython",
    "version": 3
   },
   "file_extension": ".py",
   "mimetype": "text/x-python",
   "name": "python",
   "nbconvert_exporter": "python",
   "pygments_lexer": "ipython3",
   "version": "3.10.12"
  },
  "toc": {
   "colors": {
    "hover_highlight": "#DAA520",
    "running_highlight": "#FF0000",
    "selected_highlight": "#FFD700"
   },
   "moveMenuLeft": true,
   "nav_menu": {
    "height": "123px",
    "width": "252px"
   },
   "navigate_menu": true,
   "number_sections": true,
   "sideBar": true,
   "threshold": 4,
   "toc_cell": false,
   "toc_section_display": "block",
   "toc_window_display": false,
   "widenNotebook": false
  }
 },
 "nbformat": 4,
 "nbformat_minor": 4
}
